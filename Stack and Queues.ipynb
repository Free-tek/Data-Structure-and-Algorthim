{
 "cells": [
  {
   "cell_type": "code",
   "execution_count": 125,
   "metadata": {},
   "outputs": [],
   "source": [
    "class stacks:\n",
    "    def __init__(self, maxSize =10):\n",
    "        self.items = [None] * maxSize\n",
    "        self.count = 0 \n",
    "\n",
    "    def isempty(self):\n",
    "        return self.count == 0\n",
    "    \n",
    "    def isFull(self):\n",
    "        return self.count == len(self.items)\n",
    "    \n",
    "    def display(self):\n",
    "        _list = self.items\n",
    "        for i in range(self.count):\n",
    "            print(_list[i])\n",
    "        \n",
    "    def size(self):\n",
    "        return self.count\n",
    "\n",
    "    def push(self,item):\n",
    "        if len(self.items) == self.count:\n",
    "            return 'Stack is full'\n",
    "        else:\n",
    "            _list = self.items\n",
    "            _list[self.count] = item\n",
    "            self.count+=1\n",
    "        return _list\n",
    "        \n",
    "    def pop(self):\n",
    "        _list = self.items\n",
    "        if self.count == 0:\n",
    "            return 'List item is empty'\n",
    "        else:\n",
    "            _list[self.count] = None\n",
    "            self.count-=1\n",
    "    \n",
    "    def peek(self):\n",
    "        return self.items[self.count-1]\n",
    "        \n",
    "        "
   ]
  },
  {
   "cell_type": "code",
   "execution_count": 126,
   "metadata": {},
   "outputs": [],
   "source": [
    "stackk = stacks()"
   ]
  },
  {
   "cell_type": "code",
   "execution_count": 138,
   "metadata": {},
   "outputs": [],
   "source": [
    "stackk.pop()"
   ]
  },
  {
   "cell_type": "code",
   "execution_count": 140,
   "metadata": {},
   "outputs": [
    {
     "name": "stdout",
     "output_type": "stream",
     "text": [
      "1\n",
      "2\n"
     ]
    }
   ],
   "source": [
    "stackk.display()"
   ]
  },
  {
   "cell_type": "code",
   "execution_count": 139,
   "metadata": {},
   "outputs": [
    {
     "data": {
      "text/plain": [
       "2"
      ]
     },
     "execution_count": 139,
     "metadata": {},
     "output_type": "execute_result"
    }
   ],
   "source": [
    "stackk.peek()"
   ]
  },
  {
   "cell_type": "code",
   "execution_count": null,
   "metadata": {},
   "outputs": [],
   "source": []
  },
  {
   "cell_type": "code",
   "execution_count": null,
   "metadata": {},
   "outputs": [],
   "source": []
  },
  {
   "cell_type": "markdown",
   "metadata": {},
   "source": [
    "# Stack Linked List Implementation"
   ]
  },
  {
   "cell_type": "code",
   "execution_count": 141,
   "metadata": {},
   "outputs": [],
   "source": [
    "class Node:\n",
    "    def __init__(self,value):\n",
    "        self.info = value\n",
    "        self.link = None"
   ]
  },
  {
   "cell_type": "code",
   "execution_count": 212,
   "metadata": {},
   "outputs": [],
   "source": [
    "class StackLinkList:\n",
    "    def __init__(self):\n",
    "        self.top = None\n",
    "        \n",
    "    def isempty(self):\n",
    "        return self.top == None\n",
    "    \n",
    "    def display(self):\n",
    "        p = self.top\n",
    "        while p != None:\n",
    "            print(p.info)\n",
    "            p = p.link\n",
    "            \n",
    "    def size(self):\n",
    "        count = 0\n",
    "        p = self.top\n",
    "        while p != None:\n",
    "            count+=1\n",
    "            p = p.link\n",
    "            \n",
    "    def push(self, item):\n",
    "        item = Node(item)\n",
    "        item.link = self.top\n",
    "        self.top = item\n",
    "    \n",
    "    \n",
    "    def pop(self):\n",
    "        p = self.top\n",
    "        if p == None:\n",
    "            return 'Empty stack'\n",
    "        else:\n",
    "            self.top = p.link\n",
    "            \n",
    "    def peek(self,item):\n",
    "        p = self.top\n",
    "        print(p.info)\n",
    "    \n",
    "        "
   ]
  },
  {
   "cell_type": "code",
   "execution_count": 213,
   "metadata": {},
   "outputs": [],
   "source": [
    "stack2 = StackLinkList()"
   ]
  },
  {
   "cell_type": "code",
   "execution_count": 219,
   "metadata": {},
   "outputs": [
    {
     "name": "stdout",
     "output_type": "stream",
     "text": [
      "4\n"
     ]
    }
   ],
   "source": [
    "stack2.peek(4)"
   ]
  },
  {
   "cell_type": "code",
   "execution_count": 218,
   "metadata": {},
   "outputs": [
    {
     "name": "stdout",
     "output_type": "stream",
     "text": [
      "4\n",
      "3\n",
      "2\n",
      "1\n"
     ]
    }
   ],
   "source": [
    "stack2.display()"
   ]
  },
  {
   "cell_type": "code",
   "execution_count": null,
   "metadata": {},
   "outputs": [],
   "source": []
  },
  {
   "cell_type": "code",
   "execution_count": null,
   "metadata": {},
   "outputs": [],
   "source": []
  },
  {
   "cell_type": "markdown",
   "metadata": {},
   "source": [
    "# QUEQUE"
   ]
  },
  {
   "cell_type": "code",
   "execution_count": 310,
   "metadata": {},
   "outputs": [],
   "source": [
    "#Video 43\n",
    "class queque:\n",
    "    def __init__(self,maxSize = 7):\n",
    "        self.item = [None] * maxSize\n",
    "        self.front = 0\n",
    "        self.count = 0\n",
    "        \n",
    "    def isempty(self):\n",
    "        return self.count == 0\n",
    "    \n",
    "    def size(self):\n",
    "        if self.count == 0:\n",
    "            return 'Empty queue'\n",
    "        else:\n",
    "            return self.count\n",
    "    \n",
    "    def enqueue(self,value):\n",
    "        index = (self.front + self.count) % len(self.item)\n",
    "        self.item[index] = value\n",
    "        self.count+=1\n",
    "        \n",
    "    def dequeue(self):\n",
    "        \n",
    "        self.item[self.front] = None\n",
    "        self.front = (self.front+1) % len(self.item)\n",
    "        self.count -=1\n",
    "        \n",
    "    def peek(self):\n",
    "        return self.item[self.front]\n",
    "    \n",
    "    def display(self):\n",
    "        listPending = (self.item[self.front:])\n",
    "        for item in self.item[:(self.front-self.count)]:\n",
    "            if item not in \n",
    "        print()"
   ]
  },
  {
   "cell_type": "code",
   "execution_count": 311,
   "metadata": {},
   "outputs": [],
   "source": [
    "queque1 = queque()"
   ]
  },
  {
   "cell_type": "code",
   "execution_count": 316,
   "metadata": {},
   "outputs": [],
   "source": [
    "queque1.enqueue(25)"
   ]
  },
  {
   "cell_type": "code",
   "execution_count": 317,
   "metadata": {},
   "outputs": [
    {
     "data": {
      "text/plain": [
       "5"
      ]
     },
     "execution_count": 317,
     "metadata": {},
     "output_type": "execute_result"
    }
   ],
   "source": [
    "queque1.peek()"
   ]
  },
  {
   "cell_type": "code",
   "execution_count": 318,
   "metadata": {},
   "outputs": [
    {
     "name": "stdout",
     "output_type": "stream",
     "text": [
      "[5, 10, 15, 20, 25, None, None]\n",
      "[5, 10]\n"
     ]
    }
   ],
   "source": [
    "queque1.display()"
   ]
  },
  {
   "cell_type": "code",
   "execution_count": 299,
   "metadata": {},
   "outputs": [
    {
     "data": {
      "text/plain": [
       "0"
      ]
     },
     "execution_count": 299,
     "metadata": {},
     "output_type": "execute_result"
    }
   ],
   "source": [
    "queque1.size()"
   ]
  },
  {
   "cell_type": "markdown",
   "metadata": {},
   "source": [
    "# Linked implementation of Queque"
   ]
  },
  {
   "cell_type": "code",
   "execution_count": 465,
   "metadata": {},
   "outputs": [],
   "source": [
    "#video 42\n",
    "class Node:\n",
    "    def __init__(self,value):\n",
    "        self.info = value\n",
    "        self.link = None\n",
    "        \n",
    "class LinkListQueue:\n",
    "    def __init__(self):\n",
    "        self.rear = None\n",
    "        self.count = 0\n",
    "        \n",
    "    def isempty(self):\n",
    "        return self.rear == None\n",
    "\n",
    "    def size(self):\n",
    "        return self.count\n",
    "\n",
    "    def enqueque(self,item):\n",
    "        item = Node(item)\n",
    "        if self.rear == None:\n",
    "            self.rear = item\n",
    "            item.link = self.rear\n",
    "        else:\n",
    "            item.link = self.rear.link   \n",
    "            self.rear.link = item\n",
    "            self.rear = item\n",
    "           \n",
    "        self.count+=1\n",
    "        \n",
    "    def dequeque(self):\n",
    "        if self.count == 1:\n",
    "            self.rear = None\n",
    "        else:\n",
    "            self.rear.link = self.rear.link.link\n",
    "        self.count-=1\n",
    "        \n",
    "    def peek(self):\n",
    "        return self.rear.link.info\n",
    "    \n",
    "    def display(self):\n",
    "        p = self.rear\n",
    "    \n",
    "        while p.link != self.rear:\n",
    "            print(p.info)\n",
    "            p = p.link\n",
    "        print(p.info)\n",
    "        \n",
    "            \n",
    "        \n",
    "            \n",
    "        \n",
    "        \n",
    "        "
   ]
  },
  {
   "cell_type": "code",
   "execution_count": 466,
   "metadata": {},
   "outputs": [
    {
     "data": {
      "text/plain": [
       "True"
      ]
     },
     "execution_count": 466,
     "metadata": {},
     "output_type": "execute_result"
    }
   ],
   "source": [
    "queque1 = LinkListQueue()\n",
    "queque1.isempty()"
   ]
  },
  {
   "cell_type": "code",
   "execution_count": 472,
   "metadata": {},
   "outputs": [],
   "source": [
    "queque1.dequeque()"
   ]
  },
  {
   "cell_type": "code",
   "execution_count": 473,
   "metadata": {},
   "outputs": [
    {
     "name": "stdout",
     "output_type": "stream",
     "text": [
      "4\n",
      "2\n",
      "3\n"
     ]
    }
   ],
   "source": [
    "queque1.display()"
   ]
  },
  {
   "cell_type": "markdown",
   "metadata": {},
   "source": [
    "# DEQUE Double Ended Queque"
   ]
  },
  {
   "cell_type": "code",
   "execution_count": 489,
   "metadata": {},
   "outputs": [],
   "source": [
    "class Deque():\n",
    "    def __init__(self, maxCount = 10):\n",
    "        self.items = [None] * 10\n",
    "        self.front = 0\n",
    "        self.count = 0\n",
    "        \n",
    "    def isempty(self):\n",
    "        return self.count == 0\n",
    "    \n",
    "    def size(self):\n",
    "        return self.count\n",
    "    \n",
    "    def enquequeFront(self,item):\n",
    "        if self.count == len(self.items):\n",
    "            self.resize(len(self.items) * 2)\n",
    "        self.front = (self.front - 1 ) % len(self.items)\n",
    "        self.items[self.front] = item\n",
    "        self.count+=1\n",
    "    \n",
    "    def enquequeRear(self,item):\n",
    "        if self.count == len(self.items):\n",
    "            self.resize(len(self.items) * 2)\n",
    "        i = (self.count + self.front) % len(self.items)\n",
    "        self.items[i] = item\n",
    "        self.count+=1\n",
    "        \n",
    "    def dequequeFront(self,item):\n",
    "        self.items[self.front] = None\n",
    "        self.front = (self.front +1) % len(self.items)\n",
    "        self.count -=1\n",
    "   \n",
    "    def dequequeEnd(self,item):\n",
    "        rear = (self.front + self.count - 1) % len(self.items)\n",
    "        self.items[rear] = None\n",
    "        self.count-=1\n",
    "        \n",
    "    def first(self):\n",
    "        return self.items[self.front]\n",
    "\n",
    "    def last(self):\n",
    "        i = (self.front + self.count - 1) % 8\n",
    "        return self.items[i]\n",
    "    \n",
    "    def rezise(self, newSize):\n",
    "        oldList = self.items\n",
    "        self.items = [None] * newSize\n",
    "        i = self.front\n",
    "        for j in range(self.count):\n",
    "            self.items[j] = oldList[i]\n",
    "            i = (i + 1) % len(oldList)\n",
    "        self.front = 0\n",
    "    \n",
    "    def display(self):\n",
    "        p = self.items[self.front-1]\n",
    "        j = self.front\n",
    "        for i in range(self.count+1):\n",
    "            index = j % len(self.items)\n",
    "            print(self.items[index])\n",
    "            j +=1\n",
    "            \n",
    "        \n",
    "        \n",
    "        \n",
    "        \n",
    "        \n",
    "        "
   ]
  },
  {
   "cell_type": "code",
   "execution_count": 490,
   "metadata": {},
   "outputs": [],
   "source": [
    "deque1 = Deque(7)"
   ]
  },
  {
   "cell_type": "code",
   "execution_count": 499,
   "metadata": {},
   "outputs": [],
   "source": [
    "deque1.enquequeRear(8)"
   ]
  },
  {
   "cell_type": "code",
   "execution_count": 500,
   "metadata": {},
   "outputs": [
    {
     "name": "stdout",
     "output_type": "stream",
     "text": [
      "1\n",
      "2\n",
      "3\n",
      "4\n",
      "5\n",
      "6\n",
      "7\n",
      "8\n",
      "None\n"
     ]
    }
   ],
   "source": [
    "deque1.display()"
   ]
  },
  {
   "cell_type": "code",
   "execution_count": null,
   "metadata": {},
   "outputs": [],
   "source": []
  },
  {
   "cell_type": "code",
   "execution_count": null,
   "metadata": {},
   "outputs": [],
   "source": []
  },
  {
   "cell_type": "markdown",
   "metadata": {},
   "source": [
    "# Priority Queque"
   ]
  },
  {
   "cell_type": "code",
   "execution_count": 563,
   "metadata": {},
   "outputs": [],
   "source": [
    "class Node():\n",
    "    def __init__(self,value,priority):\n",
    "        self.info = value\n",
    "        self.priority = priority\n",
    "        self.link = None\n",
    "\n",
    "class PriorityQueque():\n",
    "    def __init__(self):\n",
    "        self.front = None\n",
    "    \n",
    "    def enqueque(self,value,priority):\n",
    "        node = Node(value,priority)\n",
    "        if self.front == None:\n",
    "            self.front = node\n",
    "            print('here')\n",
    "            return\n",
    "        else:\n",
    "            p = self.front\n",
    "            prev = None\n",
    "            while p.link != None:\n",
    "                \n",
    "                if priority < p.priority:\n",
    "                    if prev == None:\n",
    "                        print('got here')\n",
    "                        node.link = p\n",
    "                        self.front = node\n",
    "                        return\n",
    "                    else:\n",
    "                        node.link = p\n",
    "                        prev.link = node\n",
    "                        return\n",
    "                elif priority == p.priority:\n",
    "                    node.link = p.link\n",
    "                    p.link = node\n",
    "                    return\n",
    "                \n",
    "                prev = p\n",
    "                p = p.link\n",
    "            \n",
    "            if prev == None:\n",
    "                if priority < p.priority:\n",
    "                    node.link = self.front\n",
    "                    self.front = node\n",
    "                    return\n",
    "                else:\n",
    "                    p.link = node\n",
    "                    node.link = None\n",
    "            else:\n",
    "                p.link = node\n",
    "                node.link = None\n",
    "                return\n",
    "            \n",
    "    def dequeque(self):\n",
    "        prev = self.front\n",
    "        p = self.front\n",
    "        \n",
    "        if self.front.link == None:\n",
    "            self.front = None\n",
    "        else:\n",
    "            while p.link != None:\n",
    "                prev = p\n",
    "                p = p.link\n",
    "            prev.link = None\n",
    "            \n",
    "    def isempty(self):\n",
    "        return self.front == None\n",
    "    \n",
    "    def display(self):\n",
    "        p = self.front\n",
    "        if self.isempty == True:\n",
    "            return 'Empty priority Queue'\n",
    "        else:\n",
    "            while p.link != None:\n",
    "                print(f'{p.priority} -- {p.info}')\n",
    "                p = p.link\n",
    "            print(f'{p.priority} -- {p.info}')\n",
    "    \n",
    "    def size(self):\n",
    "        p = self.front\n",
    "        count = 0\n",
    "        while p != None:\n",
    "            p = p.link\n",
    "            count+=1\n",
    "        return count\n",
    "        \n",
    "                    \n",
    "                    \n",
    "                    \n",
    "                    \n",
    "                \n",
    "        \n",
    "        \n",
    "        \n",
    "        \n",
    "        \n",
    "        \n",
    "        \n",
    "        \n",
    "        \n",
    "        "
   ]
  },
  {
   "cell_type": "code",
   "execution_count": 564,
   "metadata": {},
   "outputs": [],
   "source": [
    "pq = PriorityQueque()"
   ]
  },
  {
   "cell_type": "code",
   "execution_count": 566,
   "metadata": {},
   "outputs": [],
   "source": [
    "pq.enqueque(7,3)"
   ]
  },
  {
   "cell_type": "code",
   "execution_count": 567,
   "metadata": {},
   "outputs": [
    {
     "data": {
      "text/plain": [
       "2"
      ]
     },
     "execution_count": 567,
     "metadata": {},
     "output_type": "execute_result"
    }
   ],
   "source": [
    "pq.size()"
   ]
  },
  {
   "cell_type": "code",
   "execution_count": null,
   "metadata": {},
   "outputs": [],
   "source": []
  },
  {
   "cell_type": "markdown",
   "metadata": {},
   "source": [
    "# Check Matching Parenthesis"
   ]
  },
  {
   "cell_type": "code",
   "execution_count": 604,
   "metadata": {},
   "outputs": [],
   "source": [
    "class Stack():\n",
    "    def __init__(self):\n",
    "        self.item = []\n",
    "    def add(self,value):\n",
    "        self.item.append(value)\n",
    "    def delete(self):\n",
    "        pop = self.item[-1]\n",
    "        self.item.pop()\n",
    "        return pop\n",
    "    def isempty(self):\n",
    "        return self.item == []"
   ]
  },
  {
   "cell_type": "code",
   "execution_count": 613,
   "metadata": {},
   "outputs": [],
   "source": [
    "def checkMatch(sent):\n",
    "    stack = Stack()\n",
    "    leftExp = ['{', '[', '(']\n",
    "    rightExp = ['}', ']', ')']\n",
    "    for char in sent:\n",
    "        if char in leftExp:\n",
    "            stack.add(char)\n",
    "        elif char in rightExp:\n",
    "            if stack.isempty() == True:\n",
    "                return 'Invalid Expression'\n",
    "            \n",
    "            check = stack.delete()\n",
    "            if leftExp.index(check) != rightExp.index(char):\n",
    "                return 'Invalid Expression'\n",
    "    if stack.isempty() == True:\n",
    "        return 'Valid Expression'\n",
    "    else: \n",
    "        return 'Invalid Expression'\n",
    "            "
   ]
  },
  {
   "cell_type": "code",
   "execution_count": 614,
   "metadata": {},
   "outputs": [
    {
     "data": {
      "text/plain": [
       "'Invalid Expression'"
      ]
     },
     "execution_count": 614,
     "metadata": {},
     "output_type": "execute_result"
    }
   ],
   "source": [
    "checkMatch('P*{Q-R}]+s')"
   ]
  },
  {
   "cell_type": "code",
   "execution_count": 615,
   "metadata": {},
   "outputs": [
    {
     "data": {
      "text/plain": [
       "'Valid Expression'"
      ]
     },
     "execution_count": 615,
     "metadata": {},
     "output_type": "execute_result"
    }
   ],
   "source": [
    "checkMatch('(1+2)')"
   ]
  },
  {
   "cell_type": "code",
   "execution_count": null,
   "metadata": {},
   "outputs": [],
   "source": []
  },
  {
   "cell_type": "markdown",
   "metadata": {},
   "source": [
    "# POLISH NOTATION"
   ]
  },
  {
   "cell_type": "code",
   "execution_count": 750,
   "metadata": {},
   "outputs": [],
   "source": [
    "class Stack:\n",
    "    def __init__(self):\n",
    "        self.item = []\n",
    "    \n",
    "    def add(self,item):\n",
    "        self.item.append(item)\n",
    "    \n",
    "    def delete(self):\n",
    "        pop = self.item[-1]\n",
    "        self.item.pop()\n",
    "        return pop\n",
    "    \n",
    "    def isempty(self):\n",
    "        return len(self.item) == 0\n",
    "    \n",
    "    def peek(self):\n",
    "        return self.item[-1]\n",
    "\n",
    "class Node():\n",
    "    def __init__(self,value,priority):\n",
    "        self.info = value\n",
    "        self.priority = priority\n",
    "        self.link = None\n",
    "        \n",
    "        \n",
    "class PriorityQueque():\n",
    "    def __init__(self):\n",
    "        self.front = None\n",
    "        \n",
    "    def enqueque(self,value,priority):\n",
    "        node = Node(value,priority)\n",
    "        if self.front == None:\n",
    "            self.front = node\n",
    "            node.link = None\n",
    "            return \n",
    "        else:\n",
    "            p = self.front\n",
    "            prev = self.front\n",
    "            while p.link != None:\n",
    "                if priority == p.priority:\n",
    "                    node.link = p.link\n",
    "                    p.link = node\n",
    "                    return \n",
    "                elif priority > p.priority:\n",
    "                    prev.link = node\n",
    "                    node.link = p\n",
    "                    return \n",
    "                    \n",
    "                prev = p\n",
    "                p = p.link\n",
    "                \n",
    "        if self.front.link == None:\n",
    "            if priority < p.priority:\n",
    "                self.front.link = node\n",
    "                node.link == None\n",
    "            else:\n",
    "                node.link = self.front\n",
    "                self.front = node\n",
    "        else:\n",
    "            #reach the end of the priorityqueque after tranaversing\n",
    "            p.link = node\n",
    "            node.link = None\n",
    "        \n",
    "    \n",
    "    def searchPriority(self,info):\n",
    "        p = self.front\n",
    "        while p != None:\n",
    "            if p.info == info:\n",
    "                return p.priority\n",
    "            p = p.link\n",
    "        return False\n",
    "    \n",
    "    \n",
    "    \n",
    "            \n",
    "   \n",
    "        \n",
    "        \n",
    "        \n",
    "        \n",
    "                    \n",
    "            \n",
    "            \n",
    "            \n",
    "            \n",
    "    \n",
    "    \n",
    "def polishNotation(exp):\n",
    "    operation = PriorityQueque()\n",
    "    operation.enqueque(':',3)\n",
    "    operation.enqueque('*',2)\n",
    "    operation.enqueque('/',2)\n",
    "    operation.enqueque('%',2)\n",
    "    operation.enqueque('+',1)\n",
    "    operation.enqueque('-',1)\n",
    "    postfix = ''\n",
    "    currentStack = Stack()\n",
    "    \n",
    "    \n",
    "    for char in exp:\n",
    "        if operation.searchPriority(char) == False and char != '(' and char != ')':\n",
    "            #just an operand so add to postfit\n",
    "            postfix += char\n",
    "        else:\n",
    "            #operation found check priority of if its a parenthesis\n",
    "            if char == '(':\n",
    "                #add to stack \n",
    "                currentStack.add('(')\n",
    "            elif char == ')':\n",
    "                #pop till you find '('\n",
    "                while currentStack.peek() != '(':\n",
    "                    postfix+= currentStack.peek()\n",
    "                    currentStack.delete()\n",
    "                #found '(' so delete it\n",
    "                currentStack.delete()\n",
    "                    \n",
    "            elif operation.searchPriority(char) != False:\n",
    "                #an operand ^ or * or / or % or + or - just found\n",
    "                #check priority to element in stack if stack is not empty\n",
    "                if currentStack.isempty() == True:\n",
    "                    currentStack.add(char)\n",
    "                else:\n",
    "                    #stack is not empty check priority\n",
    "                    prevStackoperand = currentStack.peek()\n",
    "                    if prevStackoperand == '(':\n",
    "                        currentStack.add(char)\n",
    "                    elif operation.searchPriority(char) > operation.searchPriority(prevStackoperand):\n",
    "                        #char is an operand with greater priority so is added go ahead\n",
    "                        currentStack.add(char)\n",
    "                    elif operation.searchPriority(char) == operation.searchPriority(prevStackoperand):\n",
    "                        #operands with same priority so pop and add to postfix\n",
    "                        postfix+= prevStackoperand\n",
    "                        currentStack.delete()\n",
    "                        if currentStack.isempty() == False:\n",
    "                            prevStackoperand = currentStack.peek()\n",
    "                            while prevStackoperand != '(' and operation.searchPriority(char) <= operation.searchPriority(prevStackoperand):\n",
    "                                #operand from stack has a higher priority than char so add to postfix\n",
    "                                postfix+= prevStackoperand\n",
    "                                currentStack.delete()\n",
    "                                if currentStack.isempty() == False:\n",
    "                                    prevStackoperand = currentStack.peek()\n",
    "                                else:\n",
    "                                    break\n",
    "                            currentStack.add(char)\n",
    "                        else:\n",
    "                            #stack is empty add directly\n",
    "                            currentStack.add(char)\n",
    "                    elif operation.searchPriority(char) < operation.searchPriority(prevStackoperand):\n",
    "                        prevStackoperand = currentStack.peek()\n",
    "                        while prevStackoperand != '(' and operation.searchPriority(char) <= operation.searchPriority(prevStackoperand):\n",
    "                            #operand from stack has a higher priority than char so add to postfix\n",
    "                            postfix+= prevStackoperand\n",
    "                            currentStack.delete()\n",
    "                            if currentStack.isempty() == False:\n",
    "                                prevStackoperand = currentStack.peek()\n",
    "                            else:\n",
    "                                break\n",
    "                        currentStack.add(char)\n",
    "                        \n",
    "    while currentStack.isempty() == False:\n",
    "        postfix += currentStack.peek()\n",
    "        currentStack.delete()\n",
    "        \n",
    "    print(postfix)                    \n",
    "    return postfix\n",
    "\n",
    "\n",
    "\n",
    "\n",
    "def evaluate(postfix):\n",
    "    operands = ['+', '-' , '%', '/' , '*' , ':']\n",
    "    currentStack = Stack()\n",
    "    for char in postfix:\n",
    "        if char not in operands:\n",
    "            currentStack.add(char)\n",
    "        elif char in operands:\n",
    "            a = int(currentStack.peek())\n",
    "            currentStack.delete()\n",
    "            b = int(currentStack.peek())\n",
    "            currentStack.delete()\n",
    "            if char == '+':\n",
    "                currentStack.add(b + a)\n",
    "            elif char == '-':\n",
    "                currentStack.add(b - a)\n",
    "            elif char == '/':\n",
    "                currentStack.add(b / a)\n",
    "            elif char == '%':\n",
    "                currentStack.add(b % a)\n",
    "            elif char == '*':\n",
    "                currentStack.add(b * a)\n",
    "            elif char == ':':\n",
    "                currentStack.add(b ** a)\n",
    "                \n",
    "    return currentStack.peek()\n",
    "            \n",
    "            \n",
    "        \n",
    "                        \n",
    "                            \n",
    "                        \n",
    "                        \n",
    "            \n",
    "            \n",
    "            \n",
    "            \n",
    "            \n",
    "            \n",
    "            \n",
    "            \n",
    "            \n",
    "            \n",
    "        \n",
    "        "
   ]
  },
  {
   "cell_type": "code",
   "execution_count": 751,
   "metadata": {},
   "outputs": [
    {
     "name": "stdout",
     "output_type": "stream",
     "text": [
      "5832:*822:-/+73*+\n",
      "5832:*822:-/+73*+\n",
      "5832:*822:-/+73*+\n"
     ]
    },
    {
     "data": {
      "text/plain": [
       "44"
      ]
     },
     "execution_count": 751,
     "metadata": {},
     "output_type": "execute_result"
    }
   ],
   "source": [
    "a = \"5+8*3:2/(8-2:2)+7*3\"\n",
    "print(polishNotation(a))\n",
    "evaluate(polishNotation(a))"
   ]
  },
  {
   "cell_type": "code",
   "execution_count": 692,
   "metadata": {},
   "outputs": [
    {
     "name": "stdout",
     "output_type": "stream",
     "text": [
      "ˆ None\n",
      "ˆ *\n",
      "ˆ *\n",
      "ˆ *\n",
      "ˆ *\n",
      "ˆ *\n",
      "got called\n",
      "ˆ ----> 3\n",
      "* ----> 2\n",
      "% ----> 2\n",
      "/ ----> 2\n",
      "+ ----> 1\n",
      "- ----> 1\n"
     ]
    }
   ],
   "source": [
    "operation = PriorityQueque()\n",
    "operation.enqueque('ˆ',3)\n",
    "operation.enqueque('*',2)\n",
    "operation.enqueque('/',2)\n",
    "operation.enqueque('%',2)\n",
    "operation.enqueque('+',1)\n",
    "operation.enqueque('-',1)\n",
    "'''\n",
    "postfix = ''\n",
    "currentStack = Stack()\n",
    "'''\n",
    "display(operation)"
   ]
  },
  {
   "cell_type": "code",
   "execution_count": 698,
   "metadata": {},
   "outputs": [
    {
     "data": {
      "text/plain": [
       "False"
      ]
     },
     "execution_count": 698,
     "metadata": {},
     "output_type": "execute_result"
    }
   ],
   "source": [
    " operation.searchPriority(')')"
   ]
  },
  {
   "cell_type": "code",
   "execution_count": 690,
   "metadata": {},
   "outputs": [],
   "source": [
    "def display(priorityQue):\n",
    "    print('got called')\n",
    "    p = priorityQue.front\n",
    "    while p != None:\n",
    "        print(f'{p.info} ----> {p.priority}')\n",
    "        p = p.link"
   ]
  },
  {
   "cell_type": "code",
   "execution_count": 691,
   "metadata": {},
   "outputs": [
    {
     "name": "stdout",
     "output_type": "stream",
     "text": [
      "got called\n",
      "ˆ ----> 3\n",
      "* ----> 2\n",
      "% ----> 2\n",
      "/ ----> 2\n",
      "+ ----> 1\n",
      "- ----> 1\n"
     ]
    }
   ],
   "source": [
    "display(operation)"
   ]
  },
  {
   "cell_type": "code",
   "execution_count": 735,
   "metadata": {},
   "outputs": [
    {
     "data": {
      "text/plain": [
       "4"
      ]
     },
     "execution_count": 735,
     "metadata": {},
     "output_type": "execute_result"
    }
   ],
   "source": [
    "a =[1,2,3,4]\n",
    "a[-1]"
   ]
  },
  {
   "cell_type": "code",
   "execution_count": 737,
   "metadata": {},
   "outputs": [
    {
     "data": {
      "text/plain": [
       "False"
      ]
     },
     "execution_count": 737,
     "metadata": {},
     "output_type": "execute_result"
    }
   ],
   "source": [
    "5 in a "
   ]
  },
  {
   "cell_type": "code",
   "execution_count": 738,
   "metadata": {},
   "outputs": [
    {
     "data": {
      "text/plain": [
       "16"
      ]
     },
     "execution_count": 738,
     "metadata": {},
     "output_type": "execute_result"
    }
   ],
   "source": [
    "2**4"
   ]
  },
  {
   "cell_type": "code",
   "execution_count": null,
   "metadata": {},
   "outputs": [],
   "source": []
  }
 ],
 "metadata": {
  "kernelspec": {
   "display_name": "Python 3",
   "language": "python",
   "name": "python3"
  },
  "language_info": {
   "codemirror_mode": {
    "name": "ipython",
    "version": 3
   },
   "file_extension": ".py",
   "mimetype": "text/x-python",
   "name": "python",
   "nbconvert_exporter": "python",
   "pygments_lexer": "ipython3",
   "version": "3.7.3"
  }
 },
 "nbformat": 4,
 "nbformat_minor": 2
}
