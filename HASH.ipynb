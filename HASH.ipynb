{
 "cells": [
  {
   "cell_type": "markdown",
   "metadata": {},
   "source": [
    "# Convert String to Ascii Character"
   ]
  },
  {
   "cell_type": "code",
   "execution_count": 18,
   "metadata": {},
   "outputs": [
    {
     "data": {
      "text/plain": [
       "'116117110100101'"
      ]
     },
     "execution_count": 18,
     "metadata": {},
     "output_type": "execute_result"
    }
   ],
   "source": [
    "a = 'tunde'\n",
    "''.join([str(ord(c)) for c in a])"
   ]
  },
  {
   "cell_type": "code",
   "execution_count": 42,
   "metadata": {},
   "outputs": [],
   "source": [
    "class HashMap():\n",
    "    def __init__(self,maxSize = 3):\n",
    "        self.size = maxSize\n",
    "        self.hashMap = [[]] * maxSize\n",
    "        \n",
    "    def hashFunction(self,key):\n",
    "        hashedKey = hash(key) % self.size\n",
    "        return hashedKey\n",
    "    \n",
    "    def insert(self,key,value):\n",
    "        hashMap = self.hashMap\n",
    "        hashedKey = self.hashFunction(key)\n",
    "        slot = self.hashMap[hashedKey]\n",
    "        keyExist = False\n",
    "        for i, kv in enumerate(slot):\n",
    "            k , v = kv\n",
    "            if key  == k:\n",
    "                keyExist = True\n",
    "                break\n",
    "        if keyExist == True:\n",
    "            slot[i] = ((key,value))\n",
    "        else:\n",
    "            slot.append((key,value))\n",
    "            \n",
    "    def search(self,key):\n",
    "        hashedKey = self.hashFunction(key)\n",
    "        slot = self.hashMap[hashedKey]\n",
    "        for i , kv in enumerate(slot):\n",
    "            k , v = kv\n",
    "            if k == key:\n",
    "                return v\n",
    "        raise Exception('Key not found')\n",
    "    \n",
    "            \n",
    "        "
   ]
  },
  {
   "cell_type": "code",
   "execution_count": 43,
   "metadata": {},
   "outputs": [],
   "source": [
    "hm = HashMap()"
   ]
  },
  {
   "cell_type": "code",
   "execution_count": 44,
   "metadata": {},
   "outputs": [],
   "source": [
    "hm.insert(100,'Tunde')\n",
    "hm.insert(200,'Tope')\n",
    "hm.insert(240,'Fikayo')\n",
    "hm.insert(300,'Ope')\n",
    "hm.insert(500,'Tayo')\n",
    "hm.insert(600,'Ariike')\n",
    "hm.insert(210,'Oyin')\n",
    "hm.insert(400,'Mom')"
   ]
  },
  {
   "cell_type": "code",
   "execution_count": 50,
   "metadata": {},
   "outputs": [
    {
     "data": {
      "text/plain": [
       "'Ariike'"
      ]
     },
     "execution_count": 50,
     "metadata": {},
     "output_type": "execute_result"
    }
   ],
   "source": [
    "hm.search(600)"
   ]
  },
  {
   "cell_type": "code",
   "execution_count": 47,
   "metadata": {},
   "outputs": [],
   "source": [
    "hm.insert(100,'Tunde loves Oyikan')"
   ]
  },
  {
   "cell_type": "code",
   "execution_count": null,
   "metadata": {},
   "outputs": [],
   "source": []
  },
  {
   "cell_type": "code",
   "execution_count": null,
   "metadata": {},
   "outputs": [],
   "source": []
  },
  {
   "cell_type": "code",
   "execution_count": null,
   "metadata": {},
   "outputs": [],
   "source": []
  },
  {
   "cell_type": "code",
   "execution_count": null,
   "metadata": {},
   "outputs": [],
   "source": []
  },
  {
   "cell_type": "code",
   "execution_count": 4,
   "metadata": {},
   "outputs": [
    {
     "data": {
      "text/plain": [
       "'116117110100101'"
      ]
     },
     "execution_count": 4,
     "metadata": {},
     "output_type": "execute_result"
    }
   ],
   "source": [
    "s = 'tunde'\n",
    "''.join(str(ord(c)) for c in s)"
   ]
  },
  {
   "cell_type": "code",
   "execution_count": 8,
   "metadata": {},
   "outputs": [
    {
     "data": {
      "text/plain": [
       "7"
      ]
     },
     "execution_count": 8,
     "metadata": {},
     "output_type": "execute_result"
    }
   ],
   "source": [
    "hash('tunde') % 10"
   ]
  },
  {
   "cell_type": "code",
   "execution_count": null,
   "metadata": {},
   "outputs": [],
   "source": [
    "class Node():\n",
    "    def __init__(self, value):\n",
    "        self.info = value\n",
    "        self.link = None\n",
    "class linkedList():\n",
    "    def __init__(self):\n",
    "        self.head = None\n",
    "    \n",
    "    def insert(self, value):\n",
    "        if self.head == None:\n",
    "            self.head = Node(value)\n",
    "        else:\n",
    "            p = self.head\n",
    "            while p != None:\n",
    "                p = p.link\n",
    "            \n",
    "            p = Node(value)\n",
    "            \n",
    "            \n",
    "    def display()\n",
    "        "
   ]
  }
 ],
 "metadata": {
  "kernelspec": {
   "display_name": "Python 3",
   "language": "python",
   "name": "python3"
  },
  "language_info": {
   "codemirror_mode": {
    "name": "ipython",
    "version": 3
   },
   "file_extension": ".py",
   "mimetype": "text/x-python",
   "name": "python",
   "nbconvert_exporter": "python",
   "pygments_lexer": "ipython3",
   "version": "3.7.3"
  }
 },
 "nbformat": 4,
 "nbformat_minor": 2
}
