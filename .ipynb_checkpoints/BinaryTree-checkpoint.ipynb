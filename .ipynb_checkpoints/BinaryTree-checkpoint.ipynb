{
 "cells": [
  {
   "cell_type": "markdown",
   "metadata": {},
   "source": [
    "# BINARY TREE"
   ]
  },
  {
   "cell_type": "code",
   "execution_count": 198,
   "metadata": {},
   "outputs": [],
   "source": [
    "from collections import deque\n",
    "class Node():\n",
    "    def __init__(self,value):\n",
    "        self.info = value\n",
    "        self.rchild = None\n",
    "        self.lchild = None\n",
    "\n",
    "class BinaryTree():\n",
    "    def __init__(self):\n",
    "        self.root = None\n",
    "        \n",
    "    def isEmpty(self):\n",
    "        return self.root == None\n",
    "    \n",
    "    def display(self):\n",
    "        self._display(self.root,0)\n",
    "        \n",
    "    def _display(self,p,level):\n",
    "        if p == None:\n",
    "            return\n",
    "        \n",
    "        self._display(p.rchild,level+1)\n",
    "        for i in range(level):\n",
    "            print(\"   \", end='')\n",
    "        print(p.info)\n",
    "        self._display(p.lchild,level+1)\n",
    "        \n",
    "        \n",
    "    def preorder(self):\n",
    "        self._preorder(self.root)\n",
    "    \n",
    "    def _preorder(self,p):\n",
    "        if p == None:\n",
    "            return\n",
    "        print(p.info)\n",
    "        self._preorder(p.lchild)\n",
    "        self._preorder(p.rchild)\n",
    "        \n",
    "    def inorder(self):\n",
    "        self._inorder(self.root)\n",
    "\n",
    "    def _inorder(self,p):\n",
    "        if p == None:\n",
    "            return\n",
    "        self._inorder(p.lchild)\n",
    "        print(p.info)\n",
    "        self._inorder(p.rchild)\n",
    "        \n",
    "    def postorder(self):\n",
    "        return self._postorder(self.root)\n",
    "        \n",
    "    def _postorder(self,p):\n",
    "        if p == None:\n",
    "            return\n",
    "    \n",
    "        self._postorder(p.lchild)\n",
    "        self._postorder(p.rchild)\n",
    "        print(p.info)\n",
    "        \n",
    "    def levelorder(self):\n",
    "        self._levelorder(self.root)\n",
    "    \n",
    "    def _levelorder(self,p):\n",
    "        qu = deque()\n",
    "        qu.append(p)\n",
    "        \n",
    "        while len(qu) != 0:\n",
    "            p = qu.popleft()\n",
    "            print(p.info)\n",
    "            if p.lchild != None:\n",
    "                qu.append(p.lchild)\n",
    "            if p.rchild != None:\n",
    "                qu.append(p.rchild)\n",
    "            \n",
    "        \n",
    "    def heightBinaryTree(self):\n",
    "        return self._heightBinaryTree(self.root)\n",
    "    \n",
    "    def _heightBinaryTree(self,p):\n",
    "        if p == None:\n",
    "            return 0\n",
    "        \n",
    "        hL = self._heightBinaryTree(p.lchild)\n",
    "        hR = self._heightBinaryTree(p.rchild)\n",
    "        \n",
    "        if hL > hR:\n",
    "            return 1 + hL\n",
    "    \n",
    "        else:\n",
    "            return 1 + hR\n",
    "        \n",
    "        \n",
    "    def insertNew(self,value):\n",
    "        p = self.root\n",
    "        que = deque()\n",
    "        que.append(p)\n",
    "        \n",
    "        while len(que) != 0:\n",
    "            p = que.popleft()\n",
    "            print(p.info)\n",
    "            \n",
    "            if p.lchild != None:\n",
    "                if p.rchild == None:\n",
    "                    node = Node(value)\n",
    "                    p.rchild = node\n",
    "                    return\n",
    "            \n",
    "                que.append(p.lchild)\n",
    "            \n",
    "            if p.rchild != None:\n",
    "                que.append(p.rchild)\n",
    "                \n",
    "            \n",
    "            if p.lchild == None:\n",
    "                node = Node(value)\n",
    "                p.lchild = node\n",
    "                return\n",
    "            \n",
    "            \n",
    "    def displayQue(self,que):\n",
    "        while len(que) != 0:\n",
    "            a = que.pop()\n",
    "            print(a)\n",
    "            \n",
    "            \n",
    "    def create_tree(self):\n",
    "        self.root = Node('P')\n",
    "        self.root.lchild = Node('Q')\n",
    "        self.root.rchild = Node('R')\n",
    "        self.root.lchild.lchild = Node('A')\n",
    "        self.root.lchild.rchild = Node('B')\n",
    "        self.root.rchild.lchild = Node('X')\n",
    "            \n",
    "    \n",
    "        "
   ]
  },
  {
   "cell_type": "code",
   "execution_count": 191,
   "metadata": {},
   "outputs": [],
   "source": [
    "tree1 = BinaryTree()"
   ]
  },
  {
   "cell_type": "code",
   "execution_count": 192,
   "metadata": {},
   "outputs": [],
   "source": [
    "tree1.create_tree()"
   ]
  },
  {
   "cell_type": "code",
   "execution_count": 197,
   "metadata": {
    "scrolled": false
   },
   "outputs": [
    {
     "name": "stdout",
     "output_type": "stream",
     "text": [
      "      J\n",
      "   R\n",
      "      X\n",
      "P\n",
      "      B\n",
      "   Q\n",
      "      A\n",
      "         I\n"
     ]
    }
   ],
   "source": [
    "tree1.display()"
   ]
  },
  {
   "cell_type": "code",
   "execution_count": 196,
   "metadata": {},
   "outputs": [
    {
     "name": "stdout",
     "output_type": "stream",
     "text": [
      "P\n",
      "Q\n",
      "R\n",
      "A\n"
     ]
    }
   ],
   "source": [
    "tree1.insertNew('I')"
   ]
  },
  {
   "cell_type": "code",
   "execution_count": 22,
   "metadata": {},
   "outputs": [
    {
     "name": "stdout",
     "output_type": "stream",
     "text": [
      "P\n",
      "Q\n",
      "R\n",
      "A\n",
      "B\n",
      "X\n"
     ]
    }
   ],
   "source": [
    "tree1.levelorder()"
   ]
  },
  {
   "cell_type": "code",
   "execution_count": null,
   "metadata": {},
   "outputs": [],
   "source": [
    "def preorder(self):\n",
    "    self._preorder(self.root)\n",
    "\n",
    "def _preorder(self,p):\n",
    "    if p == None:\n",
    "        return\n",
    "    print(p.info)\n",
    "    self._preorder(p.lchild)\n",
    "    self._preorder(p.rchild)\n",
    "    \n",
    "\n",
    "def postorder(self):\n",
    "    self._postorder(self.root)\n",
    "\n",
    "def _postorder(self,p):\n",
    "    if p == None:\n",
    "        return\n",
    "    self._postorder(p.lchild)\n",
    "    self._postorder(p.rchild)\n",
    "    print(p.info)\n",
    "    \n",
    "def inorder(self):\n",
    "    self._inorder(self.root)\n",
    "    \n",
    "def _inorder(self,p):\n",
    "    if p == None:\n",
    "        return \n",
    "    self._inorder(p.lchild)\n",
    "    self._inorder(p.rchild)\n",
    "    print(p.info)\n",
    "\n",
    "def level(self):\n",
    "    self._level(self.root)\n",
    "\n",
    "def _level(self,p):\n",
    "    if p == None:\n",
    "        return\n",
    "    \n",
    "    print(p.info)\n",
    "    print(p.lchild.info)\n",
    "    print(p.rchild.info)\n",
    "    check = 0\n",
    "    if check == 0:\n",
    "        self._level(p.lchild)\n",
    "        check = 1\n",
    "    else:\n",
    "        self._level(p.rchil)\n",
    "        check = 0\n",
    "        \n",
    "        \n",
    "def height(self):\n",
    "    self._height(self.root)\n",
    "\n",
    "def _height(self,p):\n",
    "    if p == None:\n",
    "        return 0\n",
    "    hl = self._height(p.lchild)\n",
    "    hr = self._height(p.rchild)\n",
    "    if hl > hr:\n",
    "        return hl + 1\n",
    "    else:\n",
    "        hr + 1\n",
    "        \n",
    "        \n",
    "        \n",
    "    \n",
    "    \n",
    "    "
   ]
  },
  {
   "cell_type": "code",
   "execution_count": 5,
   "metadata": {},
   "outputs": [
    {
     "name": "stdout",
     "output_type": "stream",
     "text": [
      "P\n",
      "Q\n",
      "A\n",
      "B\n",
      "R\n",
      "X\n"
     ]
    }
   ],
   "source": [
    "tree1.preorder()"
   ]
  },
  {
   "cell_type": "code",
   "execution_count": 40,
   "metadata": {},
   "outputs": [
    {
     "name": "stdout",
     "output_type": "stream",
     "text": [
      "A\n",
      "Q\n",
      "B\n",
      "P\n",
      "X\n",
      "R\n"
     ]
    }
   ],
   "source": [
    "tree1.inorder()"
   ]
  },
  {
   "cell_type": "code",
   "execution_count": 41,
   "metadata": {},
   "outputs": [
    {
     "data": {
      "text/plain": [
       "3"
      ]
     },
     "execution_count": 41,
     "metadata": {},
     "output_type": "execute_result"
    }
   ],
   "source": [
    "tree1.heightBinaryTree()"
   ]
  },
  {
   "cell_type": "markdown",
   "metadata": {},
   "source": [
    "# CONSTRUCT FROM POSTORDER AND INORDER"
   ]
  },
  {
   "cell_type": "code",
   "execution_count": 73,
   "metadata": {},
   "outputs": [],
   "source": [
    "class Node():\n",
    "    def __init__(self,info):\n",
    "        self.info = info\n",
    "        self.lchild = None\n",
    "        self.rchild = None\n",
    "    \n",
    "class BinaryTree():\n",
    "    def __init__(self):\n",
    "        self.root = None\n",
    "        \n",
    "    def display(self):\n",
    "        self._display(self.root,0)\n",
    "        \n",
    "        \n",
    "    \n",
    "    def _display(self,p,level):\n",
    "        if p == None:\n",
    "            return\n",
    "        \n",
    "        self._display(p.rchild,level+1)\n",
    "        for i in range(level):\n",
    "            print('   ', end = '')\n",
    "        print(p.info)\n",
    "        self._display(p.lchild,level+1)\n",
    "        \n",
    "    def set_root(self, key):\n",
    "        self.key = key\n",
    "        \n",
    "    def inorder(self):\n",
    "        self._inorder(self.root)\n",
    "    \n",
    "    def _inorder(self,p):\n",
    "        if p == None:\n",
    "            return\n",
    "        self._inorder(p.lchild)\n",
    "        print(p.info)\n",
    "        self._inorder(p.rchild)\n",
    "        \n",
    "    def postorder(self):\n",
    "        self._postorder(self.root)\n",
    "    \n",
    "    def _postorder(self, p):\n",
    "        if p == None:\n",
    "            return \n",
    "        \n",
    "        self._postorder(p.lchild)\n",
    "        self._postorder(p.rchild)\n",
    "        print(p.info)\n",
    "        \n",
    "    def construct_tree(self,postList,inorderList,level = 0):\n",
    "        if postList == [] and inorderList == []:\n",
    "            return None\n",
    "        \n",
    "        key = postList[-1]\n",
    "        node = Node(key)\n",
    "        index = inorderList.index(key)\n",
    "        \n",
    "        node.root = Node(key)\n",
    "        node.lchild = self.construct_tree(postList[:index], inorderList[:index],level+ 1)\n",
    "        node.rchild = self.construct_tree(postList[index:-1], inorderList[index + 1:],level+ 1)\n",
    "        for i in range(level):\n",
    "            print(\"   \", end='')\n",
    "        print(f'{node.info}')\n",
    "        return node\n",
    "\n",
    "    \n",
    "    def constructTrees1(self, postorder, inorder, level = 0):\n",
    "        if postorder == [] and inorder == []:\n",
    "            return None\n",
    "        \n",
    "        node = postorder[-1]\n",
    "        node = Node(node)\n",
    "        index = inorder.index(node.info)\n",
    "        \n",
    "        self.constructTrees1(postorder[index:-1],inorder[index+1:], level+1)\n",
    "        self.constructTrees1(postorder[:index],inorder[:index], level+1)\n",
    "        \n",
    "        for i in range(level):\n",
    "            print('   ', end = \"\")\n",
    "        \n",
    "        print(f'{node.info}')\n",
    "        return \n",
    "    \n",
    "    \n",
    "    \n",
    "    def preorder(self):\n",
    "        self._preorder(self.root)\n",
    "    \n",
    "    def _preorder(self,p):\n",
    "        print(node.info)\n",
    "        self._preorder(p.lchild)\n",
    "        self._preorder(p.rchild)\n",
    "        \n",
    "    \n",
    "    def construct_tree2(self,preorderList,inorderList,level = 0):\n",
    "        if preorderList == [] and inorderList == []:\n",
    "            return None\n",
    "        \n",
    "        key = preorderList[0]\n",
    "        node = Node(key)\n",
    "        index = inorderList.index(key)\n",
    "        self.construct_tree2(preorderList[1:index+1],inorderList[:index], level+1)\n",
    "        self.construct_tree2(preorderList[index+1:],inorderList[index+1:], level+1)\n",
    "        for i in range(level):\n",
    "            print(\"    \",end='')\n",
    "        \n",
    "        print(f'{node.info}')\n",
    "        return \n",
    "        \n",
    "        \n",
    "        \n",
    "    \n",
    "        \n",
    "        \n",
    "        \n",
    "        \n",
    "        \n",
    "        \n",
    "        \n",
    "        \n",
    "        \n"
   ]
  },
  {
   "cell_type": "code",
   "execution_count": 74,
   "metadata": {},
   "outputs": [],
   "source": [
    "postList = [4,5,2,8,6,7,3,1]\n",
    "inorderList = [4,2,5,1,6,8,3,7]\n",
    "tree1 = BinaryTree()"
   ]
  },
  {
   "cell_type": "code",
   "execution_count": 75,
   "metadata": {
    "scrolled": true
   },
   "outputs": [
    {
     "name": "stdout",
     "output_type": "stream",
     "text": [
      "      7\n",
      "         8\n",
      "      6\n",
      "   3\n",
      "      5\n",
      "      4\n",
      "   2\n",
      "1\n"
     ]
    }
   ],
   "source": [
    "tree1.constructTrees1(postList,inorderList)"
   ]
  },
  {
   "cell_type": "code",
   "execution_count": 40,
   "metadata": {},
   "outputs": [],
   "source": [
    "tree1.display()"
   ]
  },
  {
   "cell_type": "code",
   "execution_count": 44,
   "metadata": {},
   "outputs": [],
   "source": [
    "preorderList = [10,5,2,6,14,12,15]\n",
    "inorderList = [2,5,6,10,12,14,15]\n",
    "tree1 = BinaryTree()"
   ]
  },
  {
   "cell_type": "code",
   "execution_count": 45,
   "metadata": {},
   "outputs": [
    {
     "name": "stdout",
     "output_type": "stream",
     "text": [
      "        2\n",
      "        6\n",
      "    5\n",
      "        12\n",
      "        15\n",
      "    14\n",
      "10\n"
     ]
    }
   ],
   "source": [
    "tree1.construct_tree2(preorderList,inorderList)"
   ]
  },
  {
   "cell_type": "code",
   "execution_count": null,
   "metadata": {},
   "outputs": [],
   "source": []
  },
  {
   "cell_type": "code",
   "execution_count": 186,
   "metadata": {},
   "outputs": [],
   "source": [
    "class Node:\n",
    "    def __init__(self,value):\n",
    "        self.info = value\n",
    "        self.lchild = None\n",
    "        self.rchild = None\n",
    "        \n",
    "class BinarySearchTree:\n",
    "    def __init__(self):\n",
    "        self.root = None\n",
    "        \n",
    "    def isempty(self):\n",
    "        if self.root == None:\n",
    "            return True\n",
    "        return False\n",
    "        \n",
    "    def insert(self,x):\n",
    "        self.root = self._insert(self.root,x)\n",
    "        \n",
    "    def _insert(self,p,x):\n",
    "        if p == None:\n",
    "            p = Node(x)\n",
    "        elif x < p.info:\n",
    "            p.lchild = self._insert(p.lchild,x)\n",
    "        elif x > p.info:\n",
    "            p.rchild = self._insert(p.rchild,x)\n",
    "        else:\n",
    "            print(f'{x} already exists in the binary tree')\n",
    "        return p\n",
    "            \n",
    "    def inorder(self):\n",
    "        self.root = self._inorder(self.root)\n",
    "    \n",
    "    def _inorder(self,p):\n",
    "        if p == None:\n",
    "            return \n",
    "        \n",
    "        self._inorder(p.lchild)\n",
    "        print(p.info)\n",
    "        self._inorder(p.rchild)\n",
    "        \n",
    "        \n",
    "    def postorder(self):\n",
    "        self._postorder(self.root)\n",
    "        \n",
    "    def _postorder(self,p):\n",
    "        if p is None:\n",
    "            return\n",
    "        self._postorder(p.lchild)\n",
    "        self._postorder(p.rchild)\n",
    "        print(p.info)\n",
    "        \n",
    "    def preorder(self):\n",
    "        self.root = self._preorder(self,self.root)\n",
    "    \n",
    "    def _preorder(self,p):\n",
    "        if p is None:\n",
    "            return\n",
    "        \n",
    "        print(p.info)\n",
    "        self._preorder(p.lchild)\n",
    "        self._preorder(p.rchild)\n",
    "        \n",
    "        \n",
    "    \n",
    "    def search(self,x):\n",
    "        return self._search(self.root,x) is not None\n",
    "    \n",
    "    def _search(self,p,x):\n",
    "        if p.info == None:\n",
    "            return None\n",
    "        elif p.info < x:\n",
    "            self._search(p.lchild,x)\n",
    "        elif p.info > x:\n",
    "            self._search(p.rchild,x)\n",
    "        else:\n",
    "            return p.info\n",
    "        \n",
    "        \n",
    "    def searchIterative(self,p,x):\n",
    "        while p != None:\n",
    "            if p.info == x:\n",
    "                return True\n",
    "            elif p.info < x:\n",
    "                p = p.lchild\n",
    "            elif p.info > x:\n",
    "                p = p.rchild\n",
    "        return False\n",
    "        \n",
    "        \n",
    "        \n",
    "        \n",
    "    def insertNew(self,x):\n",
    "        self.root =  self._insertNew(self.root,x)\n",
    "    \n",
    "    def _insertNew(self,p,x):\n",
    "        if p == None:\n",
    "            p = Node(x)\n",
    "            return\n",
    "        elif x < p.info:\n",
    "            self._insertNew(p.lchild,x)\n",
    "        elif x > p.info:\n",
    "            self._insertNew(p.rchild,x)\n",
    "        else:\n",
    "            return ('element to be inserted already exists')\n",
    "        \n",
    "        \n",
    "        \n",
    "    def insert(self,x):\n",
    "        self.root = self._insert(self.root,x)\n",
    "       \n",
    "    def _insert(self,p,x):\n",
    "        if p == None:\n",
    "            p = Node(x)\n",
    "        elif x < p.info:\n",
    "            p.lchild = self._insert(p.lchild,Node(x))\n",
    "        elif x > p.info:\n",
    "            p.rchild = self._insert(p.rchild,Node(x))\n",
    "        else:\n",
    "            print(f'{x} already exists in the binary tree')\n",
    "        return\n",
    "        \n",
    "            \n",
    "    def display(self):\n",
    "        self._display(self.root)\n",
    "        \n",
    "    def _display(self,p,level=0):\n",
    "        if p == None:\n",
    "            print('here')\n",
    "            return\n",
    "        self._display(p.rchild,level+1)\n",
    "        for i in range(level):\n",
    "            print(\"     \", end = '')\n",
    "        print(p.info)\n",
    "        self._display(p.lchildlevel+1)\n",
    "        \n",
    "        \n",
    "        \n",
    "    def insertion(self,x):\n",
    "        self.root = self._insertion(self.root,x)\n",
    "\n",
    "    def _insertion(self,p,x):\n",
    "        if p == None:\n",
    "            p = Node(x)\n",
    "            \n",
    "        elif x < p.info:\n",
    "            if p.lchild == None:\n",
    "                p.lchild = Node(x)\n",
    "            else:\n",
    "                self._insertion(plchild,x)\n",
    "        elif x > p.info:\n",
    "            if p.rchild == None:\n",
    "                p.rchild = Node(x)\n",
    "            else:\n",
    "                self._insertion(plchild,x)\n",
    "        else:\n",
    "            print(f'{x} already exists')\n",
    "            \n",
    "    def displayer(self):\n",
    "        self._displayer(self.root)\n",
    "    \n",
    "    def _displayer(self,p):\n",
    "        print(p.info)\n",
    "        if p == None:\n",
    "            return\n",
    "        p.lchild = self._displayer(p.lchild)\n",
    "        p.rchild = self._displayer(p.rchild)\n",
    "        print(p.info)\n",
    "        \n",
    "    def inorder1(self):\n",
    "        root = self.root\n",
    "        print(root)\n",
    "        if root:\n",
    "            self.inorder1(root.lchild)\n",
    "            print(root.info)\n",
    "            self.inorder1(root.rchild)\n",
    "            \n",
    "            \n",
    "            \n",
    "            \n"
   ]
  },
  {
   "cell_type": "code",
   "execution_count": 187,
   "metadata": {},
   "outputs": [],
   "source": [
    "tree1 = BinarySearchTree()"
   ]
  },
  {
   "cell_type": "code",
   "execution_count": 188,
   "metadata": {},
   "outputs": [],
   "source": [
    "tree1._insertion(tree1.root,10)"
   ]
  },
  {
   "cell_type": "code",
   "execution_count": 143,
   "metadata": {},
   "outputs": [],
   "source": [
    "tree1.insertion(10)"
   ]
  },
  {
   "cell_type": "code",
   "execution_count": 131,
   "metadata": {},
   "outputs": [],
   "source": [
    "tree1.insert(20)"
   ]
  },
  {
   "cell_type": "code",
   "execution_count": 71,
   "metadata": {},
   "outputs": [],
   "source": [
    "tree1.insertNew(5)"
   ]
  },
  {
   "cell_type": "code",
   "execution_count": 72,
   "metadata": {},
   "outputs": [],
   "source": [
    "tree1.insertNew(3)"
   ]
  },
  {
   "cell_type": "code",
   "execution_count": 73,
   "metadata": {},
   "outputs": [],
   "source": [
    "tree1.insertNew(6)"
   ]
  },
  {
   "cell_type": "code",
   "execution_count": 74,
   "metadata": {},
   "outputs": [],
   "source": [
    "tree1.insertNew(21)"
   ]
  },
  {
   "cell_type": "code",
   "execution_count": 189,
   "metadata": {},
   "outputs": [
    {
     "name": "stdout",
     "output_type": "stream",
     "text": [
      "None\n"
     ]
    }
   ],
   "source": [
    "tree1.inorder1()"
   ]
  },
  {
   "cell_type": "code",
   "execution_count": 807,
   "metadata": {},
   "outputs": [],
   "source": [
    "class Node:\n",
    "    def __init__(self,key):\n",
    "        self.left = None\n",
    "        self.right = None\n",
    "        self.val = key\n",
    "        \n",
    "def insert(root,node):\n",
    "    if root == None:\n",
    "        root = node\n",
    "        return\n",
    "    elif root.val == node.val:\n",
    "        return 'Node already exists'\n",
    "    elif node.val < root.val:\n",
    "        insert(root.left,node)\n",
    "    elif node.val > root.val:\n",
    "        insert(root.right,node)\n",
    "    return root\n",
    "            \n",
    "def inorder(root):\n",
    "    if root == None:\n",
    "        return\n",
    "    inorder(root.left)\n",
    "    print(root.val)\n",
    "    inorder(root.right)\n",
    "    \n",
    "def postorder(root):\n",
    "    if root == None:\n",
    "        return\n",
    "    postorder(root.left)\n",
    "    postorder(root.right)\n",
    "    print(root.val)\n",
    "    \n",
    "def preorder(root):\n",
    "    if root == None:\n",
    "        return\n",
    "    print(root.val)\n",
    "    preorder(root.left)\n",
    "    preorder(root.right)\n",
    "    \n",
    "def isempty(root):\n",
    "    return root.val is None\n",
    "    \n",
    "    \n",
    "def searching(root,x):\n",
    "    if root.val == None:\n",
    "        return f'{x} does not exist'\n",
    "    if root.val == x:\n",
    "        return True\n",
    "    elif x < root.val:\n",
    "        searching(root.left)\n",
    "    elif x > root.val:\n",
    "        searching(root.right)\n",
    "        \n",
    "\n",
    "def constructBinaryTree(preorderlist, inorderlist, level=0):\n",
    "    if inorderlist == [] and preorderlist == []:\n",
    "        return\n",
    "    key = preorderlist[0]\n",
    "    index = inorderlist.index(key)\n",
    "    root = Node(key)\n",
    "    root.left = constructBinaryTree(preorderlist[1:index+1], inorderlist[:index], level+1)\n",
    "    root.right = constructBinaryTree(preorderlist[index+1:], inorderlist[index+1:], level+1)\n",
    "    for i in range(level):\n",
    "        print(\"    \", end='')\n",
    "    \n",
    "    print(root.val)\n",
    "    return root\n",
    "\n",
    "def search(root,x):\n",
    "    if root == None:\n",
    "        print('False')\n",
    "        return\n",
    "    elif root.val == x:\n",
    "        print('True')\n",
    "        return\n",
    "    elif x < root.val:\n",
    "        search(root.left,x)\n",
    "    elif x > root.val:\n",
    "        search(root.right,x)\n",
    "    \n",
    "def display(root, level = 0):\n",
    "    if root == None:\n",
    "        return\n",
    "    display(root.left, level+1)\n",
    "    display(root.right, level+1)\n",
    "    for i in range(level):\n",
    "        print('     ', end=\"\")\n",
    "    print(root.val)\n",
    "        \n",
    "def minimumKey(root):\n",
    "    if root.left == None:\n",
    "        print(root.val)\n",
    "        return\n",
    "    root.left = minimumKey(root.left)\n",
    "    \n",
    "    \n",
    "def maximumKey(root):\n",
    "    if root.right == None:\n",
    "        print(root.val)\n",
    "        return\n",
    "    root.right = maximumKey(root.right)\n",
    "    \n",
    "def insertionBinaryTree(root,x):\n",
    "    if root == None:\n",
    "        root = Node(x)\n",
    "        return \n",
    "    elif x < root.val:\n",
    "        if root.left == None:\n",
    "            root.left = Node(x)\n",
    "            return \n",
    "        else:\n",
    "            insertionBinaryTree(root.left,x)\n",
    "    elif x > root.val:\n",
    "        if root.right == None:\n",
    "            root.right = Node(x)\n",
    "            return \n",
    "        else: \n",
    "            insertionBinaryTree(root.right,x)\n",
    "    else:\n",
    "        print('Node already exist')\n",
    "        \n",
    "    return root\n",
    "        \n",
    "    \n",
    "def createBinaryTree():\n",
    "    count = int(input('How many nodes should be in binary tree: '))\n",
    "    root = None\n",
    "    for i in range(count):\n",
    "        value = int(input('Enter Value of node: '))\n",
    "        root = insertionBinaryTree(root,value)\n",
    "    return root\n",
    "        \n",
    "        \n",
    "def insertBinaryTree(root,node):\n",
    "    if root == None:\n",
    "        root = node\n",
    "    elif node.val < root.val:\n",
    "        root.left = insertBinaryTree1(root.left,node)\n",
    "    elif node.val > root.val:\n",
    "        root.right = insertBinaryTree1(root.right,node)\n",
    "    return root\n",
    "\n",
    "def deleteNode(root,node):\n",
    "    if root == None:\n",
    "        print('Node not found')\n",
    "    elif node.val == root.val:\n",
    "        print('got here')\n",
    "        if root.right == None and root.left != None:\n",
    "            root = root.left\n",
    "        elif root.right != None and root.left == None:\n",
    "            root = root.right\n",
    "        elif root.right == None and root.left == None:\n",
    "            root = None\n",
    "        else:\n",
    "            swap = root.right\n",
    "            #leftChildren = root.left\n",
    "            while swap.left != None:\n",
    "                prev = swap\n",
    "                swap = swap.left\n",
    "            leftChildrenSwap = swap.right\n",
    "            prev.left = None\n",
    "            prev.left = leftChildrenSwap\n",
    "            root.val = swap.val\n",
    "            swap = None\n",
    "    elif node.val < root.val:\n",
    "        root.left = deleteNode(root.left,node)\n",
    "    elif node.val > root.val:\n",
    "        root.right = deleteNode(root.right,node)\n",
    "    return root\n",
    "        \n",
    "\n",
    "    \n",
    "    "
   ]
  },
  {
   "cell_type": "code",
   "execution_count": 812,
   "metadata": {},
   "outputs": [],
   "source": [
    "a = insertBinaryTree1(None,Node(70))\n",
    "a = insertBinaryTree1(a,Node(30))\n",
    "a = insertBinaryTree1(a,Node(84))\n",
    "a = insertBinaryTree1(a,Node(12))\n",
    "a = insertBinaryTree1(a,Node(45))\n",
    "a = insertBinaryTree1(a,Node(78))\n",
    "a = insertBinaryTree1(a,Node(95))\n",
    "a = insertBinaryTree1(a,Node(9))\n",
    "a = insertBinaryTree1(a,Node(38))\n",
    "a = insertBinaryTree1(a,Node(60))\n",
    "a = insertBinaryTree1(a,Node(72))\n",
    "a = insertBinaryTree1(a,Node(86))\n",
    "a = insertBinaryTree1(a,Node(73))\n",
    "a = insertBinaryTree1(a,Node(34))"
   ]
  },
  {
   "cell_type": "code",
   "execution_count": 813,
   "metadata": {
    "scrolled": true
   },
   "outputs": [
    {
     "name": "stdout",
     "output_type": "stream",
     "text": [
      "               9\n",
      "          12\n",
      "                    34\n",
      "               38\n",
      "               60\n",
      "          45\n",
      "     30\n",
      "                    73\n",
      "               72\n",
      "          78\n",
      "               86\n",
      "          95\n",
      "     84\n",
      "70\n"
     ]
    }
   ],
   "source": [
    "display(a)"
   ]
  },
  {
   "cell_type": "code",
   "execution_count": 814,
   "metadata": {},
   "outputs": [
    {
     "name": "stdout",
     "output_type": "stream",
     "text": [
      "got here\n"
     ]
    },
    {
     "data": {
      "text/plain": [
       "<__main__.Node at 0x10fd19d30>"
      ]
     },
     "execution_count": 814,
     "metadata": {},
     "output_type": "execute_result"
    }
   ],
   "source": [
    "deleteNode(a,Node(84))"
   ]
  },
  {
   "cell_type": "code",
   "execution_count": 815,
   "metadata": {},
   "outputs": [
    {
     "name": "stdout",
     "output_type": "stream",
     "text": [
      "               9\n",
      "          12\n",
      "                    34\n",
      "               38\n",
      "               60\n",
      "          45\n",
      "     30\n",
      "                    73\n",
      "               72\n",
      "          78\n",
      "          95\n",
      "     86\n",
      "70\n"
     ]
    }
   ],
   "source": [
    "display(a)"
   ]
  },
  {
   "cell_type": "code",
   "execution_count": 631,
   "metadata": {},
   "outputs": [
    {
     "name": "stdout",
     "output_type": "stream",
     "text": [
      "        3\n",
      "        15\n",
      "    10\n",
      "        30\n",
      "    21\n",
      "20\n"
     ]
    }
   ],
   "source": [
    "a = constructBinaryTree([20,10,3,15,21,30],[3,10,15,20,21,30])"
   ]
  },
  {
   "cell_type": "code",
   "execution_count": 632,
   "metadata": {},
   "outputs": [
    {
     "name": "stdout",
     "output_type": "stream",
     "text": [
      "3\n"
     ]
    }
   ],
   "source": [
    "minimumKey(a)"
   ]
  },
  {
   "cell_type": "code",
   "execution_count": 633,
   "metadata": {},
   "outputs": [],
   "source": [
    "b = insert(a,Node(1))"
   ]
  },
  {
   "cell_type": "code",
   "execution_count": 634,
   "metadata": {},
   "outputs": [
    {
     "name": "stdout",
     "output_type": "stream",
     "text": [
      "          30\n",
      "     21\n",
      "20\n"
     ]
    }
   ],
   "source": [
    "display(b)"
   ]
  },
  {
   "cell_type": "code",
   "execution_count": 452,
   "metadata": {
    "scrolled": true
   },
   "outputs": [
    {
     "name": "stdout",
     "output_type": "stream",
     "text": [
      "3\n",
      "30\n",
      "21\n",
      "20\n"
     ]
    }
   ],
   "source": [
    "postorder(a)"
   ]
  },
  {
   "cell_type": "code",
   "execution_count": 453,
   "metadata": {},
   "outputs": [
    {
     "name": "stdout",
     "output_type": "stream",
     "text": [
      "     3\n",
      "          30\n",
      "     21\n",
      "20\n"
     ]
    }
   ],
   "source": [
    "display(b)"
   ]
  },
  {
   "cell_type": "code",
   "execution_count": 471,
   "metadata": {},
   "outputs": [],
   "source": [
    "r = Node(20)\n",
    "r.left = Node(10)\n",
    "r.left.left = Node(3)\n",
    "r.left.right = Node(15)\n",
    "r.right = Node(21)\n",
    "r.right.right = Node(30)"
   ]
  },
  {
   "cell_type": "code",
   "execution_count": 472,
   "metadata": {},
   "outputs": [
    {
     "name": "stdout",
     "output_type": "stream",
     "text": [
      "          3\n",
      "          15\n",
      "     10\n",
      "          30\n",
      "     21\n",
      "20\n"
     ]
    }
   ],
   "source": [
    "display(r)"
   ]
  },
  {
   "cell_type": "code",
   "execution_count": 477,
   "metadata": {},
   "outputs": [],
   "source": [
    "b = insertionBinaryTree(r,29)"
   ]
  },
  {
   "cell_type": "code",
   "execution_count": 478,
   "metadata": {},
   "outputs": [
    {
     "name": "stdout",
     "output_type": "stream",
     "text": [
      "               1\n",
      "          3\n",
      "          15\n",
      "     10\n",
      "               29\n",
      "               35\n",
      "          30\n",
      "     21\n",
      "20\n"
     ]
    }
   ],
   "source": [
    "display(b)"
   ]
  },
  {
   "cell_type": "code",
   "execution_count": null,
   "metadata": {},
   "outputs": [],
   "source": []
  },
  {
   "cell_type": "code",
   "execution_count": null,
   "metadata": {},
   "outputs": [],
   "source": []
  },
  {
   "cell_type": "code",
   "execution_count": null,
   "metadata": {},
   "outputs": [],
   "source": []
  },
  {
   "cell_type": "code",
   "execution_count": null,
   "metadata": {},
   "outputs": [],
   "source": []
  },
  {
   "cell_type": "code",
   "execution_count": null,
   "metadata": {},
   "outputs": [],
   "source": []
  },
  {
   "cell_type": "code",
   "execution_count": null,
   "metadata": {},
   "outputs": [],
   "source": []
  },
  {
   "cell_type": "markdown",
   "metadata": {},
   "source": [
    "# BINARY TREE PRACTISE IMPLEMENTATION"
   ]
  },
  {
   "cell_type": "code",
   "execution_count": null,
   "metadata": {},
   "outputs": [],
   "source": [
    "class Node():\n",
    "    def __init__(self,value):\n",
    "        self.info = value\n",
    "        self.lchild = None\n",
    "        self.rchild  = None\n",
    "        \n",
    "        \n",
    "class BinaryTree():\n",
    "    \n",
    "    def __init__(self):\n",
    "        self.root = None\n",
    "        \n",
    "    def insert(self,value):\n",
    "        self._insert(value)\n",
    "    \n",
    "    def _insert(self,value):\n",
    "        p = self.root\n",
    "        if p == None:\n",
    "            node = Node(value)\n",
    "            p = node\n",
    "        elif value < p:\n",
    "            self._insert(p.lchild)\n",
    "        elif value > p:\n",
    "            self._insert(p.rchild)\n",
    "        else:\n",
    "            raise Exception('Node already Exists')\n",
    "    \n",
    "    \n",
    "    def inorder(self):\n",
    "        self._inorder(self,self.root)\n",
    "        \n",
    "    def _inorder(self,p):\n",
    "        if p == None:\n",
    "            return\n",
    "        \n",
    "        self._inorder(p.lchild)\n",
    "        print(p.info)\n",
    "        self._inorder(p.rchild)\n",
    "        \n",
    "        \n",
    "    \n",
    "    def preorder(self):\n",
    "        self._preorder(self.root)\n",
    "    \n",
    "    \n",
    "    def _preorder(self, p):\n",
    "        if p == None:\n",
    "            return\n",
    "\n",
    "        print(p.info)\n",
    "        self._preorder(p.lchild)\n",
    "        self._preorder(p.rchild)\n",
    "        \n",
    "        \n",
    "        \n",
    "        \n",
    "    def postorder(self):\n",
    "        self._postorder(self.root)\n",
    "    \n",
    "    \n",
    "    def _postorder(self,p):\n",
    "        if p == None:\n",
    "            return\n",
    "        \n",
    "        self._postorder(p.lchild)\n",
    "        self._postorder(p.rchild)\n",
    "        print(p.info)\n",
    "        \n",
    "        \n",
    "    def levelTranversal(self):\n",
    "        p = self.root\n",
    "        que = deque()\n",
    "        que.append(self.root)\n",
    "        \n",
    "        while len(que) != 0:\n",
    "            p = que.popLeft()\n",
    "            print(p.info)\n",
    "            \n",
    "            if p.lchild != None:\n",
    "                que.append(p.lchild)\n",
    "            \n",
    "            if p.rchild != None:\n",
    "                que.append(p.rchild)\n",
    "        \n",
    "            \n",
    "    def constructBinaryTree(self, postOrder, inOrder, level=0):\n",
    "        if postOrder == [] and inOrder == []:\n",
    "            return\n",
    "        \n",
    "        key = postOrder[-1]\n",
    "        index = inOrder.index(key)\n",
    "        node = Node(key)\n",
    "        \n",
    "        lchild = self.constructBinaryTree(postOrder[:index], inOrder[:index], level+=1)\n",
    "        rchild = self.constructBinaryTree(postOrder[index:-1], inOrder[index:], level+=1)\n",
    "        \n",
    "        for i in range(level):\n",
    "            print('    ', end=\"\")\n",
    "            \n",
    "        print(node.info)\n",
    "        return\n",
    "    \n",
    "    \n",
    "    \n",
    "    def display(self, level = 0):\n",
    "        p = self.root\n",
    "        que = deque()\n",
    "        que.append(self.root)\n",
    "        \n",
    "        while len(que) != 0:\n",
    "            p = que.popLast()\n",
    "            for i in range(level):\n",
    "                print('    ', end=\"\")\n",
    "            \n",
    "            print(p.info)\n",
    "            \n",
    "            if p.lchild != None:\n",
    "                self.display(p.lchild, level+=1)\n",
    "            \n",
    "            if p.rchild != None:\n",
    "                self.display(p.rchild, level+=1)\n",
    "                \n",
    "                \n",
    "                \n",
    "    def delete(self, self.root, x):\n",
    "        p = self.root\n",
    "        if x == p and p.lchild == None and p.rchild == None:\n",
    "            #no children\n",
    "            p = None\n",
    "            return\n",
    "        \n",
    "        elif x == p and p.rchild == None and p.lchild != None:\n",
    "            #1 child left child\n",
    "            p = p.lchild\n",
    "            return\n",
    "        \n",
    "        elif x == p and p.lchild == None and p.lchild != None:\n",
    "            # 1 child right child\n",
    "            p = p.rchild\n",
    "            return\n",
    "        \n",
    "        elif x == p and p.rchild != None and p.lchild != None::\n",
    "            #2 children\n",
    "            #find inorder successor\n",
    "            swap = p\n",
    "            p = p.rchild\n",
    "            while p.lchild != None:\n",
    "                prev = p\n",
    "                p = p.lchild \n",
    "            swap = p\n",
    "            if p.rchild == None:\n",
    "                p = None\n",
    "            else:\n",
    "                #p has a right child\n",
    "                prev.lchild = p.rchild\n",
    "            return\n",
    "        \n",
    "        if x < p:\n",
    "            p = p.lchild\n",
    "            self.delete(p,x)\n",
    "        else:\n",
    "            p = p.rchild\n",
    "            self.delete(p,x)\n",
    "\n",
    "        \n",
    "            \n",
    "        \n",
    "    def minimum(self):\n",
    "        p = self.root\n",
    "        while p.lchild != None:\n",
    "            p = p.lchild\n",
    "        return p\n",
    "    \n",
    "    \n",
    "    def maximum(self):\n",
    "        p = self.root\n",
    "        while p.rchild != None:\n",
    "            p = p.rchild\n",
    "        return p\n",
    "    \n",
    "    \n",
    "    def height(self):\n",
    "        return self._height(self.root)\n",
    "        \n",
    "    def _height(self, p):\n",
    "        if p == None:\n",
    "            return 0\n",
    "        \n",
    "        hL = self.height(p.lchild)\n",
    "        hR = self.height(p.rchild)\n",
    "        \n",
    "        if hL > hR:\n",
    "            return hL + 1\n",
    "        else:\n",
    "            return hR + 1\n",
    "        \n",
    "        \n",
    "    \n",
    "    def search(self,x):\n",
    "        self._search(self.root,x)\n",
    "        \n",
    "    def _search(self, p, x):\n",
    "        if p.info == x:\n",
    "            return 'Found'\n",
    "        elif x < p:\n",
    "            if p.lchild == None:\n",
    "                raise Exception('Not found')\n",
    "            else:\n",
    "                p = p.lchild\n",
    "                self._search(p, x)\n",
    "        elif x > p:\n",
    "            if p.rchild == None:\n",
    "                raise Exception('Not found')\n",
    "            else:\n",
    "                p = p.rchild\n",
    "                self._search(p, x)\n",
    "            \n",
    "            \n",
    "        \n",
    "        \n",
    "        \n",
    "        \n",
    "        \n",
    "\n",
    "    \n",
    "        "
   ]
  },
  {
   "cell_type": "code",
   "execution_count": null,
   "metadata": {},
   "outputs": [],
   "source": [
    "inorder, postorder, preorder, constructBinaryTree, display, delete, minimum, maximum, height, search"
   ]
  }
 ],
 "metadata": {
  "kernelspec": {
   "display_name": "Python 3",
   "language": "python",
   "name": "python3"
  },
  "language_info": {
   "codemirror_mode": {
    "name": "ipython",
    "version": 3
   },
   "file_extension": ".py",
   "mimetype": "text/x-python",
   "name": "python",
   "nbconvert_exporter": "python",
   "pygments_lexer": "ipython3",
   "version": "3.7.3"
  }
 },
 "nbformat": 4,
 "nbformat_minor": 2
}
