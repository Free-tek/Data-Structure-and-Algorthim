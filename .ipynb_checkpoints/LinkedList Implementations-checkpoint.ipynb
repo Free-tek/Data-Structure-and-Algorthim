{
 "cells": [
  {
   "cell_type": "markdown",
   "metadata": {},
   "source": [
    "# Single Link List"
   ]
  },
  {
   "cell_type": "code",
   "execution_count": 149,
   "metadata": {},
   "outputs": [],
   "source": [
    "class Node:\n",
    "    def __init__(self,value):\n",
    "        self.info = value\n",
    "        self.link = None\n",
    "\n",
    "class singleLinkedList():\n",
    "    def __init__(self):\n",
    "        self.start = None\n",
    "    \n",
    "    def createLinkList(self):\n",
    "        noNode = int(input('Enter number of nodes'))\n",
    "        for i in range(noNode):\n",
    "            nodeInput = int(input(f'Enter node {i}:'))\n",
    "            singleLinkedList.insertNodeBegining(self,nodeInput)\n",
    "            \n",
    "    def insertNodeBegining(self,node):\n",
    "        temp = Node(node)\n",
    "        p = self.start\n",
    "        temp.link = self.start\n",
    "        self.start = temp\n",
    "        \n",
    "    def displayLinkList(self):\n",
    "        if self.start == None:\n",
    "            print('Empty list')\n",
    "            return\n",
    "        else:\n",
    "            p = self.start\n",
    "            while p.link != None:\n",
    "                print(p.info)\n",
    "                p = p.link\n",
    "        print(p.info)\n",
    "        return p.info\n",
    "    \n",
    "    def countNodes(self):\n",
    "        p = self.start\n",
    "        count = 1\n",
    "        if self.start == None:\n",
    "            print('Empty list')\n",
    "            return\n",
    "        else:\n",
    "            while p.link != None:\n",
    "                count+=1\n",
    "                p = p.link\n",
    "        return count\n",
    "    \n",
    "    def search(self,item):\n",
    "        count = 1\n",
    "        if self.start == None:\n",
    "            print('Empty list')\n",
    "            return False\n",
    "        else:\n",
    "            p = self.start\n",
    "            while p.link != None:\n",
    "                if p.info == item:\n",
    "                    print(f'{item} is found in position {count}')\n",
    "                    return True\n",
    "                count+=1\n",
    "                p = p.link\n",
    "        if p.info == item:\n",
    "            print(f'{item} is found in position {count}')\n",
    "            return True\n",
    "        else:\n",
    "            print(f'{item} is not in the linked list')\n",
    "            return False\n",
    "                    \n",
    "    def refLastNode(self):\n",
    "        p = self.start\n",
    "        if self.start != None:\n",
    "            while p.link != None:\n",
    "                p = p.link\n",
    "            print(f'{p.info} is the last node')\n",
    "        else:\n",
    "            print('Empty list')\n",
    "            \n",
    "\n",
    "    def refSecondLastNode(self):\n",
    "        p = self.start\n",
    "        if self.start == None:\n",
    "            print('Empty list')\n",
    "        elif p.link.link == None:\n",
    "            print('Link only has one item')\n",
    "        else:\n",
    "            while p.link.link != None:\n",
    "                p = p.link\n",
    "            print(f'{p.info} is the second last node')\n",
    "            \n",
    "\n",
    "         \n",
    "    def refNodeWithInfo(self,x):\n",
    "        position = 1\n",
    "        p = self.start\n",
    "        if self.start == None:\n",
    "            print('Empty list')\n",
    "        else:\n",
    "            while p.link != None:\n",
    "                if p.info == x:\n",
    "                    print(f'Info is found in the {position} node')\n",
    "                    return\n",
    "                p = p.link\n",
    "                position+=1\n",
    "        if p.info == x:\n",
    "            print(f'Info is found in the {position} node')\n",
    "            return\n",
    "        else:\n",
    "            print(f'Info is not in linked list')\n",
    "            return\n",
    "        \n",
    "    def refPredecessorNodeParticularInfo(self,x):\n",
    "        p = self.start\n",
    "        if self.start == None:\n",
    "            print('Empty list')\n",
    "        elif p.link.link == None:\n",
    "            print('Just one item in list, no predecessor')\n",
    "        elif p.link.info == x:\n",
    "            print(f'{p.info} is the predecessor of {x}')\n",
    "        else:\n",
    "            while p.link.link != None:\n",
    "                if p.link.link.info == x:\n",
    "                    p = p.link\n",
    "                    print(f'{p.info} is the predecessor of {x}')\n",
    "                    return\n",
    "                p = p.link\n",
    "    \n",
    "    \n",
    "    def refNodeParticularPosition(self, position):\n",
    "        count = 1\n",
    "        p = self.start\n",
    "        if self.start == None:\n",
    "            print('Empty list')\n",
    "        else: \n",
    "            while p.link != None:\n",
    "                if count == position:\n",
    "                    print(f'{p.info} is at {position}')\n",
    "                    return\n",
    "                p = p.link\n",
    "                count+=1\n",
    "            if count == position:\n",
    "                print(f'{p.info} is at {position}')\n",
    "                return\n",
    "            \n",
    "    def insertionEmptyList(self,node):\n",
    "        node = Node(node)\n",
    "        if self.start != None:\n",
    "            print('List is not empty')\n",
    "            return\n",
    "        else:\n",
    "            self.start = node\n",
    "            return\n",
    "    \n",
    "    def insertionAtEnd(self,node):\n",
    "        p = self.start\n",
    "        node = Node(node)\n",
    "        if self.start == None:\n",
    "            print('Empty list')\n",
    "            self.start = node\n",
    "        else:\n",
    "            while p.link != None:\n",
    "                p = p.link\n",
    "            p.link = node\n",
    "    \n",
    "    \n",
    "    def insertionBetweenList(self,node):\n",
    "        p = self.start\n",
    "        node = Node(node)\n",
    "        if self.start == None:\n",
    "            print('Empty list')\n",
    "        else:\n",
    "            position = 1\n",
    "            count = singleLinkedList.countNodes(self)\n",
    "            middle = int((count+1)/2)\n",
    "            while p.link != None:\n",
    "                if position == middle:\n",
    "                    node.link = p.link\n",
    "                    p.link = node\n",
    "                    \n",
    "                    return\n",
    "                position +=1\n",
    "                p = p.link\n",
    "                \n",
    "    def insertAtMiddle(self,value):\n",
    "        node = Node(value)\n",
    "        p = self.start\n",
    "        q = p.link\n",
    "        prev = None\n",
    "        \n",
    "        while q != None and q.link != None:\n",
    "            prev = p\n",
    "            p = p.link\n",
    "            q = q.link.link\n",
    "            \n",
    "        \n",
    "        node = Node(value)\n",
    "        node.link = p.link\n",
    "        p.link = node\n",
    "        \n",
    "        \n",
    "        \n",
    "    def insertionAfterNode(self,node,insertion):\n",
    "        p = self.start\n",
    "        if self.start == None:\n",
    "            print('list is empty')\n",
    "        else:\n",
    "            if singleLinkedList.search(self,node) == True:\n",
    "                while p.link != None:\n",
    "                    if p.info == node:\n",
    "                        insertion.link = p.link\n",
    "                        p.link = insertion\n",
    "                    p = p.link\n",
    "            else:\n",
    "                print('node does not exist') \n",
    "                \n",
    "    def insertionBeforeNode(self,node,insertion):\n",
    "        p = self.start\n",
    "        if self.start == None:\n",
    "            print('list is empty')\n",
    "        else: \n",
    "            if singleLinkedList.search(self,node) == True:\n",
    "                if node == p.info:\n",
    "                    insertion.link = self.start\n",
    "                    self.start = insertion\n",
    "                    return\n",
    "                else:\n",
    "                    while p.link != None:\n",
    "                        if node == p.link.info:\n",
    "                            insertion.link = p.link\n",
    "                            p.link = insertion\n",
    "                            return\n",
    "                        p = p.link\n",
    "            else:\n",
    "                print('Node does not exist')\n",
    "    \n",
    "    def insertionPosition(self,node,insertPosition):\n",
    "        p = self.start\n",
    "        position = 1\n",
    "        if self.start == None:\n",
    "            print('list is empty')\n",
    "        else: \n",
    "            if singleLinkedList.countNodes(self) < position:\n",
    "                print(f'position {position} does not exist in the list')\n",
    "            else:\n",
    "                node = Node(node)\n",
    "                while p.link != None:\n",
    "                    if insertPosition == 1:\n",
    "                        node.link = self.start\n",
    "                        self.start = node\n",
    "                        return\n",
    "                    else:\n",
    "                        while p.link!= None:\n",
    "                            if position == insertPosition - 1:\n",
    "                                node.link = p.link\n",
    "                                p.link = node\n",
    "                                return\n",
    "                            p = p.link\n",
    "                            position +=1\n",
    "    \n",
    "    def deletionFirstNode(self):\n",
    "        p = self.start\n",
    "        if self.start == None:\n",
    "            print('Empty list')\n",
    "            return\n",
    "        else:\n",
    "            if p.link == None:\n",
    "                self.start = None\n",
    "            else: \n",
    "                self.start = p.link \n",
    "    \n",
    "    def deletionOnlyNode(self):\n",
    "        p = self.start\n",
    "        if p.link == None:\n",
    "            self.start = None\n",
    "            return\n",
    "        else:\n",
    "            print('The linked list has more than one node')\n",
    "            \n",
    "    def deletionBetweenList(self):\n",
    "        p = self.start\n",
    "        if self.start == None:\n",
    "            print('Empty list')\n",
    "            return\n",
    "        else:\n",
    "            position = 1\n",
    "            count = singleLinkedList.countNodes(self)\n",
    "            middle = int((count+1)/2)\n",
    "            while p.link != None:\n",
    "                if position == middle-1:\n",
    "                    p.link = p.link.link\n",
    "                    return\n",
    "                p = p.link\n",
    "                position+=1\n",
    "    \n",
    "    def deletionAtEnd(self):\n",
    "        p = self.start\n",
    "        if self.start == None:\n",
    "            print('Empty list')\n",
    "            return\n",
    "        else:\n",
    "            while p.link.link != None:\n",
    "                p = p.link\n",
    "            p.link = None\n",
    "            \n",
    "            \n",
    "            \n",
    "    def reverseLL(self):\n",
    "        p = self.start\n",
    "        prev = None\n",
    "        while p != None:\n",
    "            _next = p.link\n",
    "            p.link = prev\n",
    "            prev = p\n",
    "            p = _next\n",
    "        self.start = prev\n",
    "\n",
    "    def reverseLinkList(self):\n",
    "        prev = None\n",
    "        p = self.start\n",
    "        while p.link != None:\n",
    "            _next = p.link\n",
    "            p.link = prev\n",
    "            prev = p\n",
    "            p = _next\n",
    "        self.start = p\n",
    "        p.link = prev\n",
    "        \n",
    "    \n",
    "\n",
    "    def bubbleSortExData(self):  #4->3->30->4   #1->39->20->4\n",
    "        p = self.start\n",
    "        end = None\n",
    "        while end != self.start.link:\n",
    "            p = self.start\n",
    "            while p.link != end:\n",
    "                q = p.link\n",
    "                if q.info < p.info:\n",
    "                    p.info,q.info = q.info,p.info\n",
    "                p = p.link\n",
    "            end = p\n",
    "        return self\n",
    "            \n",
    "            \n",
    "            \n",
    "    def bubbleSortExLink(self):  \n",
    "        p = self.start   \n",
    "        end = None     \n",
    "        stop = p.link  \n",
    "        while end != stop:   \n",
    "            prev = p = self.start   \n",
    "            while p.link != end:    \n",
    "                q = p.link          \n",
    "                if q.info < p.info:    \n",
    "                    p.link = q.link\n",
    "                    q.link = p\n",
    "                    if p == self.start:\n",
    "                        self.start = q\n",
    "                    else:\n",
    "                        prev.link = q\n",
    "                    p,q = q,p\n",
    "                print(singleLinkedList.displayLinkList(self))\n",
    "                prev = p\n",
    "                p = p.link   \n",
    "            end = p           \n",
    "                    \n",
    "                    \n",
    "    def sortLinkListMerging(self,linkedList1,linkedList2):\n",
    "        #sortLinkedList1\n",
    "        p1 = singleLinkedList.bubbleSortExData(linkedList1)\n",
    "        p2 = singleLinkedList.bubbleSortExData(linkedList2)\n",
    "        p1 = p1.start\n",
    "        p2 = p2.start\n",
    "        newLinkList = singleLinkedList()\n",
    "        while p1.link != None and p2.link != None:\n",
    "            if p1.info <= p2.info:\n",
    "                #p1 is smaller\n",
    "                temp = p1.link\n",
    "                if newLinkList.start == None:\n",
    "                    newLinkList.start = p1\n",
    "                    pContinue = newLinkList.start\n",
    "                    p1 = temp\n",
    "                else: \n",
    "                    pContinue.link = p1\n",
    "                    pContinue = p1\n",
    "                    p1 = temp\n",
    "\n",
    "            else:\n",
    "                temp = p2.link\n",
    "                if newLinkList.start == None:\n",
    "                    newLinkList.start = p2\n",
    "                    pContinue = newLinkList.start\n",
    "                    p2 = temp\n",
    "\n",
    "                else:\n",
    "                    pContinue.link = p2\n",
    "                    pContinue = p2\n",
    "                    p2 = temp\n",
    "\n",
    "        if p1.link == None and p2.link == None:\n",
    "            if p1.info <= p2.info:\n",
    "                pContinue.link = p1\n",
    "                pContinue.link.link = p2\n",
    "\n",
    "            else:\n",
    "                pContinue.link = p1\n",
    "                pContinue.link.link = p2\n",
    "            \n",
    "        elif p1.link == None:\n",
    "            temp = p2.link\n",
    "            if p1.info <= p2.info:\n",
    "                pContinue.link = p1\n",
    "                pContinue = p1\n",
    "                return singleLinkedList.displayLinkList(newLinkList)\n",
    "            else:\n",
    "                pContinue.link = p2\n",
    "                pContinue = p2\n",
    "                p2 = temp\n",
    "                while p2.link != None:\n",
    "                    if p1.info <= p2.info:\n",
    "                        pContinue.link = p1\n",
    "                        pContinue = p1\n",
    "                        p2 = None\n",
    "                        break\n",
    "                        \n",
    "                    else:\n",
    "                        pContinue.link = p2\n",
    "                        pContinue = p2\n",
    "                        p2 = temp\n",
    "                        \n",
    "                if p2 != None:\n",
    "                    if p1.info <= p2.info:\n",
    "                        pContinue.link = p1\n",
    "                        pContinue = p1\n",
    "                        return singleLinkedList.displayLinkList(newLinkList)\n",
    "                    else:\n",
    "                        pContinue.link = p2\n",
    "                        pContinue = p2\n",
    "                        return singleLinkedList.displayLinkList(newLinkList)\n",
    "                else:\n",
    "                    p2 = temp\n",
    "                \n",
    "            while p2.link != None:\n",
    "                temp = p2\n",
    "                pContinue.link = p2\n",
    "                pContinue = p2\n",
    "                p2 = temp.link\n",
    "            pContinue.link = p2   \n",
    "        elif p2.link == None:\n",
    "            temp = p1.link\n",
    "            if p2.info <= p1.info:\n",
    "                pContinue.link = p2\n",
    "                pContinue = p2\n",
    "            else:\n",
    "                pContinue.link = p1\n",
    "                pContinue = p1\n",
    "                p1 = temp\n",
    "                while p1.link != None:\n",
    "                    if p2.info <= p1.info:\n",
    "                        pContinue.link = p2\n",
    "                        pContinue = p2\n",
    "                        p1 = None\n",
    "                        break\n",
    "                    else:\n",
    "                        pContinue.link = p1\n",
    "                        pContinue = p1\n",
    "                        p1 = temp\n",
    "                if p1 != None:\n",
    "                    if p1.info <= p2.info:\n",
    "                        pContinue.link = p1\n",
    "                        pContinue = p1\n",
    "                        return singleLinkedList.displayLinkList(newLinkList)\n",
    "                    else:\n",
    "                        pContinue.link = p2\n",
    "                        pContinue = p2\n",
    "                        return singleLinkedList.displayLinkList(newLinkList)\n",
    "                else:\n",
    "                    p1 = temp\n",
    "                        \n",
    "               \n",
    "            while p1.link != None:\n",
    "                temp = p1\n",
    "                pContinue.link = p1\n",
    "                pContinue = p1\n",
    "                p1 = temp.link\n",
    "            pContinue.link = p1     \n",
    "        self = newLinkList\n",
    "        return singleLinkedList.displayLinkList(newLinkList) \n",
    "\n",
    "    def sortLinkListMergeOld(self,linkedList1,linkedList2):\n",
    "        p1 = singleLinkedList.bubbleSortExData(linkedList1)\n",
    "        p2 = singleLinkedList.bubbleSortExData(linkedList2)\n",
    "        p1 = p1.start\n",
    "        p2 = p2.start\n",
    "        startRef = None\n",
    "        pcurrent = singleLinkedList()\n",
    "        passs = False\n",
    "        while p1.link != None and p2.link != None:\n",
    "            if p1.info <= p2.info:\n",
    "                if startRef == None and passs == False:\n",
    "                    startRef = p1\n",
    "                    pcurrent.start = startRef\n",
    "                    passs = True\n",
    "                else:\n",
    "                    pcurrent.link = p1\n",
    "                    pcurrent = p1\n",
    "                p1 = p1.link\n",
    "            else:\n",
    "                if startRef == None and passs == False:\n",
    "                    startRef = p2\n",
    "                    pcurrent.start = startRef\n",
    "                    passs = True\n",
    "                else:\n",
    "                    pcurrent.link = p2\n",
    "                    pcurrent = p2 \n",
    "                p2 = p2.link\n",
    "        \n",
    "        if p1.link == None and p2.link == None:\n",
    "            if p1.info <= p2.info:\n",
    "                pcurrent.link = p1\n",
    "                pcurrent = p1\n",
    "                pcurrent.link = p2\n",
    "            else:\n",
    "                pcurrent.link = p2\n",
    "                pcurrent = p2\n",
    "                pcurrent.link = p1\n",
    "            pcurrent.start = startRef\n",
    "            return(singleLinkedList.displayLinkList(pcurrent))\n",
    "                \n",
    "        elif p1.link == None:\n",
    "            while p2.link != None:\n",
    "                if p1.info <= p2.info:\n",
    "                    pcurrent.link = p1\n",
    "                    pcurrent = p1\n",
    "                    break\n",
    "                else:\n",
    "                    pcurrent.link = p2\n",
    "                    pcurrent = p2\n",
    "                    p2 = p2.link\n",
    "            while p2.link != None:\n",
    "                pcurrent.link = p2\n",
    "                pcurrent = p2\n",
    "                p2 = p2.link\n",
    "                \n",
    "            pcurrent.link = p2\n",
    "            pcurrent.start = startRef\n",
    "            return(singleLinkedList.displayLinkList(pcurrent))\n",
    "        \n",
    "        elif p2.link == None:\n",
    "            while p1.link != None:\n",
    "                if p2.info <= p1.info:\n",
    "                    pcurrent.link = p2\n",
    "                    pcurrent = p2\n",
    "                    break\n",
    "                else:\n",
    "                    pcurrent.link = p1\n",
    "                    pcurrent = p1\n",
    "                    p1 = p1.link\n",
    "                    \n",
    "            while p1.link != None:\n",
    "                pcurrent.link = p1\n",
    "                pcurrent = p1\n",
    "                p1 = p1.link\n",
    "                \n",
    "            pcurrent.start = startRef\n",
    "            pcurrent.link = p1\n",
    "            pcurrent.start = startRef\n",
    "            return(singleLinkedList.displayLinkList(pcurrent))\n",
    "        \n",
    "    \n",
    "    \n",
    "    \n",
    "                            \n",
    "                            \n",
    "    def merge2(self,list1,list2):\n",
    "        p = list1.start\n",
    "        q = list2.start\n",
    "        if p.info <= q.info:\n",
    "            startM = p\n",
    "            p = p.link\n",
    "        else:\n",
    "            startM = q\n",
    "            q = q.link\n",
    "            \n",
    "        pM = startM\n",
    "        count = 0\n",
    "        \n",
    "        \n",
    "        while p.link != None and q.link != None:\n",
    "            count+=1\n",
    "            if p.info <= q.info:\n",
    "                pM.link = p\n",
    "                pM = pM.link\n",
    "                p = p.link\n",
    "\n",
    "            else:\n",
    "                pM.link = q\n",
    "                pM = pM.link\n",
    "                q = q.link\n",
    "            \n",
    "        if p.link ==  None and q.link == None:\n",
    "            if p.info <= q.info:\n",
    "                pM.link = p\n",
    "                pM = pM.link\n",
    "                pM.link = q\n",
    "                \n",
    "            else:\n",
    "                pM.link = q\n",
    "                pM = pM.link\n",
    "                pM.link = p\n",
    "                \n",
    "                \n",
    "        elif p.link == None and q.link != None:\n",
    "            \n",
    "            if p.info <= q.info:\n",
    "                pM.link = p\n",
    "                pM = pM.link\n",
    "            else:\n",
    "                pM.link = q\n",
    "                pM = pM.link\n",
    "                q = q.link\n",
    "                while q != None:\n",
    "                    if p.info <= q.info:\n",
    "                        pM.link = p\n",
    "                        pM = pM.link\n",
    "                        p.info = None\n",
    "                        break\n",
    "                    else:\n",
    "                        pM.link = q\n",
    "                        pM = pM.link\n",
    "                        q = q.link\n",
    "                \n",
    "                if p.info != None:\n",
    "                    pM.link = p\n",
    "                    pM = pM.link\n",
    "            \n",
    "            while q != None:\n",
    "                pM.link = q\n",
    "                pM = pM.link\n",
    "                q = q.link\n",
    "        \n",
    "        elif q.link == None and p.link != None:\n",
    "            \n",
    "            if q.info <= p.info:\n",
    "                pM.link = q\n",
    "                pM = pM.link\n",
    "                \n",
    "            else:\n",
    "                pM.link = p\n",
    "                pM = pM.link\n",
    "                while q != None:\n",
    "                    if q.info <= p.info:\n",
    "                        pM.link = q\n",
    "                        pM = pM.link\n",
    "                        q.info = None\n",
    "                        break\n",
    "                    else:\n",
    "                        pM.link = p\n",
    "                        pM = pM.link\n",
    "                        p = p.link\n",
    "                        \n",
    "                if p.info != None:\n",
    "                    pM.link = p\n",
    "                    pM = pM.link\n",
    "                \n",
    "                \n",
    "            while p != None:\n",
    "                pM.link = p\n",
    "                pM = pM.link\n",
    "                p = p.link\n",
    "        return startM\n",
    "            \n",
    "                \n",
    "    def mergeSort(self):\n",
    "        self.start = self.merger_rec(self.start)\n",
    "        singleLinkedList.displayLinkList(self)\n",
    "        \n",
    "    def merger_rec(self,_list):\n",
    "        #if list is empty or list has only one element\n",
    "        if _list == None or _list.link != None:\n",
    "            return _list\n",
    "        \n",
    "        #if more than one element\n",
    "        start1 = _list.start\n",
    "        start2 = self.divideLinkList(_list)\n",
    "        start1 = self.merger_rec(start1)\n",
    "        start2 = self.merger_rec(start2)\n",
    "        startMerg = self.merge2(start1,start2)\n",
    "        return startMerg\n",
    "    \n",
    "        \n",
    "    def divideLinkList(self,p):\n",
    "        q = p.link.link\n",
    "        \n",
    "        while q != None and q.link != None:\n",
    "            p = p.link\n",
    "            q = q.link.link\n",
    "        start2 = p.link\n",
    "        p.link = None\n",
    "        return start2\n",
    "    \n",
    "    def findCycleSlowFast(self):\n",
    "        slow = self.start\n",
    "        fast = self.start\n",
    "        count = 1\n",
    "        while fast != None and fast.link != None:\n",
    "            slow = slow.link\n",
    "            fast = fast.link.link\n",
    "            count +=1\n",
    "            if slow == fast:\n",
    "                print(f'cycle in {slow.info,count}')\n",
    "                return slow,count\n",
    "        print('no cycle')\n",
    "       \n",
    "        \n",
    "    \n",
    "    def removeCycle(self):\n",
    "        findCycleNode,count = self.findCycleSlowFast()\n",
    "        p = findCycleNode\n",
    "        counter = 1\n",
    "        q = self.start\n",
    "        while counter <= count-1:\n",
    "            q = q.link\n",
    "            counter+=1\n",
    "            \n",
    "        q = q.link\n",
    "        \n",
    "        position = 1\n",
    "        while p != q:\n",
    "            q = q.link\n",
    "            position +=1\n",
    "        itemsInCycle = position\n",
    "        \n",
    "        \n",
    "        #get length of remaining list\n",
    "        position = 0\n",
    "        p = self.start\n",
    "        while p != q:\n",
    "            p = p.link\n",
    "            q = q.link\n",
    "            position += 1\n",
    "        remainingList = position\n",
    "        \n",
    "        totalLength = itemsInCycle + remainingList\n",
    "        p = self.start\n",
    "        count = 1\n",
    "        while count < totalLength:\n",
    "            p = p.link\n",
    "            count+=1\n",
    "        print(p.info)\n",
    "        p.link = None\n",
    "        \n",
    "        \n",
    "    def insertCycle(self,x):\n",
    "        cycle = self.start\n",
    "        position = 1\n",
    "        while position <= x-1:\n",
    "            cycle = cycle.link\n",
    "            position +=1\n",
    "        \n",
    "        position = 1\n",
    "        p = self.start\n",
    "        \n",
    "        while p.link != None:\n",
    "            p = p.link\n",
    "        p.link = cycle\n",
    "        \n",
    "    \n",
    "            \n",
    "            \n",
    "    def reverseLinkListt(self):\n",
    "        p = self.start\n",
    "        prev = None\n",
    "        while p.link != None:\n",
    "            _next = p.link\n",
    "            p.link = prev\n",
    "            prev = p\n",
    "            p = _next\n",
    "        self.start = prev\n",
    "            \n",
    "            \n",
    "            \n",
    "    def concatenateLinkList(self,list2):\n",
    "        p = self.start\n",
    "        \n",
    "        if list1.start == None:\n",
    "            return list2\n",
    "        elif list2.start == None:\n",
    "            return self\n",
    "        elif list1.start == None and list2.start == None:\n",
    "            return self\n",
    "        else:\n",
    "            while p.link != None:\n",
    "                p = p.link\n",
    "\n",
    "            p.link = list2.start\n",
    "            return p\n",
    "            \n",
    "            \n",
    "    def maintainSortedLinkList(self,node):\n",
    "        node = Node(node)\n",
    "        p = self.start\n",
    "        prev = None\n",
    "        while p.link != None:\n",
    "            if p.info < node.info:\n",
    "                prev = p\n",
    "                p = p.link\n",
    "        \n",
    "            else:\n",
    "                if prev == None:\n",
    "                    node.link = self.start\n",
    "                    self.start = node\n",
    "                    return\n",
    "                else:\n",
    "                    node.link = p\n",
    "                    prev.link = node\n",
    "                    return\n",
    "                    \n",
    "           \n",
    "        if p.info <= node.info:\n",
    "            p.link = node\n",
    "            node.link = None\n",
    "        else:\n",
    "            node.link = p.info\n",
    "            prev.link = node\n",
    "            \n",
    "            \n",
    "    \n",
    "   \n",
    "    def _bubbleSortter(self, end = None):\n",
    "        p = self.start\n",
    "        q = p.link\n",
    "\n",
    "        while q != end:\n",
    "            if p.info > q.info:\n",
    "                q.info,p.info = p.info,q.info\n",
    "            p = q\n",
    "            q = q.link\n",
    "        end = p\n",
    "        \n",
    "        if end != self.start.link:\n",
    "            self._bubbleSortter(end)\n",
    "        return \n",
    "            \n",
    "            \n",
    "\n",
    "    def merge2LinkListNew(self,list2):\n",
    "        resultList = singleLinkedList()\n",
    "        self._bubbleSortter()\n",
    "        list2._bubbleSortter()\n",
    "        p = self.start\n",
    "        q = list2.start\n",
    "        \n",
    "        while p != None or q != None:\n",
    "    \n",
    "            if p == None and q != None:\n",
    "                while q != None:\n",
    "                    resultList.insertionAtEnd(q.info)\n",
    "                    q = q.link\n",
    "                break\n",
    "                \n",
    "            elif p != None and q == None:\n",
    "                while p != None:\n",
    "                    resultList.insertionAtEnd(p.info)\n",
    "                    p = p.link\n",
    "                break\n",
    "            else:\n",
    "                if p.info < q.info:\n",
    "                    node = Node(p.info)\n",
    "                    resultList.insertionAtEnd(p.info)\n",
    "                    p = p.link\n",
    "                else:\n",
    "                    node = Node(q.info)\n",
    "                    resultList.insertionAtEnd(q.info)\n",
    "                    q = q.link\n",
    "        \n",
    "        p = resultList.start\n",
    "        print(p.info)\n",
    "        while p != None:\n",
    "            print(p.info)\n",
    "            p = p.link\n",
    "        return resultList\n",
    "                        \n",
    "                \n",
    "    \n",
    "       \n",
    "        \n",
    "        "
   ]
  },
  {
   "cell_type": "code",
   "execution_count": 154,
   "metadata": {},
   "outputs": [],
   "source": [
    "a = [9,11,15,31,39,43]\n",
    "b = [2,10,17,29,40,45,67,79]\n",
    "\n",
    "\n",
    "def megeList(lista,listb):\n",
    "    a = 0\n",
    "    b = 0\n",
    "    r = 0\n",
    "    result = []\n",
    "    while a < len(lista) and b < len(listb):\n",
    "        \n",
    "        if lista[a] < listb[b]:\n",
    "            result.append(lista[a])\n",
    "            a+=1\n",
    "        else:\n",
    "            result.append(listb[b])\n",
    "            b+=1\n",
    "            \n",
    "    while a > len(lista) and b < len(listb):\n",
    "        result.append(listb)\n",
    "        b+=1\n",
    "    \n",
    "    while a < len(lista) and b < len(listb):\n",
    "        result.append(lista)\n",
    "        a+=1\n",
    "        \n",
    "        \n",
    "        \n",
    "    return result\n",
    "\n",
    "\n",
    "    "
   ]
  },
  {
   "cell_type": "code",
   "execution_count": 155,
   "metadata": {},
   "outputs": [
    {
     "ename": "IndexError",
     "evalue": "list index out of range",
     "output_type": "error",
     "traceback": [
      "\u001b[0;31m---------------------------------------------------------------------------\u001b[0m",
      "\u001b[0;31mIndexError\u001b[0m                                Traceback (most recent call last)",
      "\u001b[0;32m<ipython-input-155-8df71b6bd4c7>\u001b[0m in \u001b[0;36m<module>\u001b[0;34m\u001b[0m\n\u001b[0;32m----> 1\u001b[0;31m \u001b[0mprint\u001b[0m\u001b[0;34m(\u001b[0m\u001b[0mmegeList\u001b[0m\u001b[0;34m(\u001b[0m\u001b[0ma\u001b[0m\u001b[0;34m,\u001b[0m\u001b[0mb\u001b[0m\u001b[0;34m)\u001b[0m\u001b[0;34m)\u001b[0m\u001b[0;34m\u001b[0m\u001b[0;34m\u001b[0m\u001b[0m\n\u001b[0m",
      "\u001b[0;32m<ipython-input-154-082b4409c012>\u001b[0m in \u001b[0;36mmegeList\u001b[0;34m(lista, listb)\u001b[0m\n\u001b[1;32m      9\u001b[0m     \u001b[0mresult\u001b[0m \u001b[0;34m=\u001b[0m \u001b[0;34m[\u001b[0m\u001b[0;34m]\u001b[0m\u001b[0;34m\u001b[0m\u001b[0;34m\u001b[0m\u001b[0m\n\u001b[1;32m     10\u001b[0m     \u001b[0;32mwhile\u001b[0m \u001b[0ma\u001b[0m \u001b[0;34m<\u001b[0m \u001b[0mlen\u001b[0m\u001b[0;34m(\u001b[0m\u001b[0mlista\u001b[0m\u001b[0;34m)\u001b[0m \u001b[0;32mor\u001b[0m \u001b[0mb\u001b[0m \u001b[0;34m<\u001b[0m \u001b[0mlen\u001b[0m\u001b[0;34m(\u001b[0m\u001b[0mlista\u001b[0m\u001b[0;34m)\u001b[0m\u001b[0;34m:\u001b[0m\u001b[0;34m\u001b[0m\u001b[0;34m\u001b[0m\u001b[0m\n\u001b[0;32m---> 11\u001b[0;31m         \u001b[0;32mif\u001b[0m \u001b[0mlista\u001b[0m\u001b[0;34m[\u001b[0m\u001b[0ma\u001b[0m\u001b[0;34m]\u001b[0m \u001b[0;34m<\u001b[0m \u001b[0mlistb\u001b[0m\u001b[0;34m[\u001b[0m\u001b[0mb\u001b[0m\u001b[0;34m]\u001b[0m\u001b[0;34m:\u001b[0m\u001b[0;34m\u001b[0m\u001b[0;34m\u001b[0m\u001b[0m\n\u001b[0m\u001b[1;32m     12\u001b[0m             \u001b[0mresult\u001b[0m\u001b[0;34m.\u001b[0m\u001b[0mappend\u001b[0m\u001b[0;34m(\u001b[0m\u001b[0mlista\u001b[0m\u001b[0;34m[\u001b[0m\u001b[0ma\u001b[0m\u001b[0;34m]\u001b[0m\u001b[0;34m)\u001b[0m\u001b[0;34m\u001b[0m\u001b[0;34m\u001b[0m\u001b[0m\n\u001b[1;32m     13\u001b[0m             \u001b[0ma\u001b[0m\u001b[0;34m+=\u001b[0m\u001b[0;36m1\u001b[0m\u001b[0;34m\u001b[0m\u001b[0;34m\u001b[0m\u001b[0m\n",
      "\u001b[0;31mIndexError\u001b[0m: list index out of range"
     ]
    }
   ],
   "source": [
    "print(megeList(a,b))"
   ]
  },
  {
   "cell_type": "code",
   "execution_count": 150,
   "metadata": {
    "scrolled": true
   },
   "outputs": [
    {
     "name": "stdout",
     "output_type": "stream",
     "text": [
      "Enter number of nodes4\n",
      "Enter node 0:40\n",
      "Enter node 1:12\n",
      "Enter node 2:35\n",
      "Enter node 3:1\n"
     ]
    }
   ],
   "source": [
    "list1 = singleLinkedList()\n",
    "list1.createLinkList()\n",
    "#4  : 40 35 12 1"
   ]
  },
  {
   "cell_type": "code",
   "execution_count": 151,
   "metadata": {
    "scrolled": true
   },
   "outputs": [
    {
     "name": "stdout",
     "output_type": "stream",
     "text": [
      "1\n",
      "35\n",
      "12\n",
      "40\n"
     ]
    },
    {
     "data": {
      "text/plain": [
       "40"
      ]
     },
     "execution_count": 151,
     "metadata": {},
     "output_type": "execute_result"
    }
   ],
   "source": [
    "list1.displayLinkList()"
   ]
  },
  {
   "cell_type": "code",
   "execution_count": 152,
   "metadata": {},
   "outputs": [
    {
     "name": "stdout",
     "output_type": "stream",
     "text": [
      "Enter number of nodes3\n",
      "Enter node 0:30\n",
      "Enter node 1:1\n",
      "Enter node 2:3\n"
     ]
    }
   ],
   "source": [
    "list2 = singleLinkedList()\n",
    "list2.createLinkList()\n"
   ]
  },
  {
   "cell_type": "code",
   "execution_count": 153,
   "metadata": {},
   "outputs": [
    {
     "name": "stdout",
     "output_type": "stream",
     "text": [
      "1\n",
      "Empty list\n",
      "1\n",
      "3\n",
      "12\n",
      "30\n",
      "35\n",
      "40\n",
      "1\n",
      "1\n",
      "1\n",
      "3\n",
      "12\n",
      "30\n",
      "35\n",
      "40\n",
      "1\n",
      "1\n",
      "3\n",
      "12\n",
      "30\n",
      "35\n",
      "40\n"
     ]
    },
    {
     "data": {
      "text/plain": [
       "40"
      ]
     },
     "execution_count": 153,
     "metadata": {},
     "output_type": "execute_result"
    }
   ],
   "source": [
    "list1.merge2LinkListNew(list2).displayLinkList()"
   ]
  },
  {
   "cell_type": "code",
   "execution_count": 57,
   "metadata": {},
   "outputs": [],
   "source": [
    "list1.maintainSortedLinkList(10)"
   ]
  },
  {
   "cell_type": "code",
   "execution_count": 92,
   "metadata": {},
   "outputs": [
    {
     "name": "stdout",
     "output_type": "stream",
     "text": [
      "12\n",
      "35\n",
      "1\n",
      "40\n"
     ]
    },
    {
     "data": {
      "text/plain": [
       "40"
      ]
     },
     "execution_count": 92,
     "metadata": {},
     "output_type": "execute_result"
    }
   ],
   "source": [
    "list1.displayLinkList()"
   ]
  },
  {
   "cell_type": "code",
   "execution_count": 93,
   "metadata": {},
   "outputs": [
    {
     "name": "stdout",
     "output_type": "stream",
     "text": [
      "got here\n",
      "got here\n"
     ]
    }
   ],
   "source": [
    "list1._bubbleSortter()"
   ]
  },
  {
   "cell_type": "code",
   "execution_count": null,
   "metadata": {},
   "outputs": [],
   "source": []
  },
  {
   "cell_type": "code",
   "execution_count": 108,
   "metadata": {},
   "outputs": [
    {
     "name": "stdout",
     "output_type": "stream",
     "text": [
      "1\n",
      "12\n",
      "35\n",
      "40\n"
     ]
    },
    {
     "data": {
      "text/plain": [
       "40"
      ]
     },
     "execution_count": 108,
     "metadata": {},
     "output_type": "execute_result"
    }
   ],
   "source": [
    "list1.displayLinkList()"
   ]
  },
  {
   "cell_type": "code",
   "execution_count": 476,
   "metadata": {
    "scrolled": true
   },
   "outputs": [
    {
     "name": "stdout",
     "output_type": "stream",
     "text": [
      "Enter number of nodes3\n",
      "Enter node 0:4\n",
      "Enter node 1:5\n",
      "Enter node 2:6\n"
     ]
    }
   ],
   "source": [
    "list2 = singleLinkedList()\n",
    "list2.createLinkList()"
   ]
  },
  {
   "cell_type": "code",
   "execution_count": 477,
   "metadata": {},
   "outputs": [
    {
     "data": {
      "text/plain": [
       "<__main__.Node at 0x10cb1f320>"
      ]
     },
     "execution_count": 477,
     "metadata": {},
     "output_type": "execute_result"
    }
   ],
   "source": [
    "list1.concatenateLinkList(list2)"
   ]
  },
  {
   "cell_type": "code",
   "execution_count": 1264,
   "metadata": {
    "scrolled": false
   },
   "outputs": [],
   "source": [
    "list1.insertCycle(4)"
   ]
  },
  {
   "cell_type": "code",
   "execution_count": 1265,
   "metadata": {},
   "outputs": [
    {
     "name": "stdout",
     "output_type": "stream",
     "text": [
      "cycle in (5, 5)\n"
     ]
    },
    {
     "data": {
      "text/plain": [
       "(<__main__.Node at 0x111791550>, 5)"
      ]
     },
     "execution_count": 1265,
     "metadata": {},
     "output_type": "execute_result"
    }
   ],
   "source": [
    "list1.findCycleSlowFast()"
   ]
  },
  {
   "cell_type": "code",
   "execution_count": 1266,
   "metadata": {},
   "outputs": [
    {
     "name": "stdout",
     "output_type": "stream",
     "text": [
      "cycle in (5, 5)\n",
      "7\n"
     ]
    }
   ],
   "source": [
    "list1.removeCycle()"
   ]
  },
  {
   "cell_type": "code",
   "execution_count": 478,
   "metadata": {},
   "outputs": [
    {
     "name": "stdout",
     "output_type": "stream",
     "text": [
      "3\n",
      "2\n",
      "1\n",
      "6\n",
      "5\n",
      "4\n"
     ]
    },
    {
     "data": {
      "text/plain": [
       "4"
      ]
     },
     "execution_count": 478,
     "metadata": {},
     "output_type": "execute_result"
    }
   ],
   "source": [
    "list1.displayLinkList()"
   ]
  },
  {
   "cell_type": "code",
   "execution_count": 1094,
   "metadata": {
    "scrolled": true
   },
   "outputs": [
    {
     "name": "stdout",
     "output_type": "stream",
     "text": [
      "Enter number of nodes5\n",
      "Enter node 0:80\n",
      "Enter node 1:50\n",
      "Enter node 2:30\n",
      "Enter node 3:12\n",
      "Enter node 4:1\n"
     ]
    }
   ],
   "source": [
    "list2 = singleLinkedList()\n",
    "list2.createLinkList()\n",
    "# 5  : 80 50 30 12 1"
   ]
  },
  {
   "cell_type": "code",
   "execution_count": 1095,
   "metadata": {},
   "outputs": [
    {
     "name": "stdout",
     "output_type": "stream",
     "text": [
      "no cycle\n"
     ]
    }
   ],
   "source": [
    "list2.findCycleSlowFast()"
   ]
  },
  {
   "cell_type": "code",
   "execution_count": 1048,
   "metadata": {},
   "outputs": [
    {
     "name": "stdout",
     "output_type": "stream",
     "text": [
      "Enter number of nodes4\n",
      "Enter node 0:1\n",
      "Enter node 1:4\n",
      "Enter node 2:3\n",
      "Enter node 3:2\n"
     ]
    }
   ],
   "source": [
    "list11 = singleLinkedList()\n",
    "list11.createLinkList()"
   ]
  },
  {
   "cell_type": "code",
   "execution_count": 1049,
   "metadata": {},
   "outputs": [
    {
     "name": "stdout",
     "output_type": "stream",
     "text": [
      "2\n",
      "3\n",
      "4\n",
      "1\n"
     ]
    }
   ],
   "source": [
    "list11.mergeSort()"
   ]
  },
  {
   "cell_type": "code",
   "execution_count": null,
   "metadata": {},
   "outputs": [],
   "source": []
  },
  {
   "cell_type": "code",
   "execution_count": 115,
   "metadata": {},
   "outputs": [],
   "source": [
    "list1.bubbleSortExData()"
   ]
  },
  {
   "cell_type": "code",
   "execution_count": null,
   "metadata": {},
   "outputs": [],
   "source": [
    "list1.reverseLinkList()"
   ]
  },
  {
   "cell_type": "code",
   "execution_count": null,
   "metadata": {},
   "outputs": [],
   "source": [
    "list1.displayLinkList()"
   ]
  },
  {
   "cell_type": "code",
   "execution_count": 888,
   "metadata": {},
   "outputs": [
    {
     "data": {
      "text/plain": [
       "4"
      ]
     },
     "execution_count": 888,
     "metadata": {},
     "output_type": "execute_result"
    }
   ],
   "source": [
    "list1.countNodes()"
   ]
  },
  {
   "cell_type": "code",
   "execution_count": null,
   "metadata": {},
   "outputs": [],
   "source": [
    "list1.deletionBetweenList()"
   ]
  },
  {
   "cell_type": "code",
   "execution_count": null,
   "metadata": {},
   "outputs": [],
   "source": [
    "list1.displayLinkList()"
   ]
  },
  {
   "cell_type": "code",
   "execution_count": null,
   "metadata": {},
   "outputs": [],
   "source": []
  },
  {
   "cell_type": "markdown",
   "metadata": {},
   "source": [
    "# Doubly link list"
   ]
  },
  {
   "cell_type": "code",
   "execution_count": 525,
   "metadata": {},
   "outputs": [],
   "source": [
    "class doublyNode():\n",
    "    def __init__(self,value):\n",
    "        self.info = value\n",
    "        self.next = None\n",
    "        self.prev = None\n",
    "\n",
    "        \n",
    "\n",
    "class doublyLinkList():\n",
    "    def __init__(self):\n",
    "        self.start =  None\n",
    "        \n",
    "\n",
    "    def insertNewNodeBegining(self,temp):\n",
    "        temp.next = self.start\n",
    "        self.start.prev = temp\n",
    "        self.start = temp \n",
    "    \n",
    "    def insertionEmpyList(self,temp):\n",
    "        self.start = temp\n",
    "        \n",
    "    def insertionEndList(self,temp):\n",
    "        p = self.start\n",
    "        while p.next != None:\n",
    "            p = p.next\n",
    "        p.next = temp\n",
    "        temp.prev = p\n",
    "                    \n",
    "    def insertionAfterNode(self,temp,position):\n",
    "        p = self.start\n",
    "        count = 1\n",
    "        while p.next != None:\n",
    "            if count == position:\n",
    "                break\n",
    "            p = p.next\n",
    "            count+=1\n",
    "        temp.next = p.next\n",
    "        p.next.previous = temp\n",
    "        p.next = temp\n",
    "        temp.prev = p\n",
    "    \n",
    "    def insertionBeforeNode(self,temp,position):\n",
    "        p = self.start\n",
    "        count = 1\n",
    "        while p.next != None:\n",
    "            if count == position:\n",
    "                break\n",
    "            p = p.next\n",
    "            count+=1\n",
    "        \n",
    "        print(p.info)\n",
    "        p.prev.next = temp\n",
    "        temp.prev = p.prev    \n",
    "        temp.next = p\n",
    "        p.prev = temp\n",
    "    \n",
    "    def displayDoubleLinkList(self):\n",
    "        p = self.start\n",
    "        if p == None:\n",
    "            print('list is empty')\n",
    "            return\n",
    "        while p.next != None:\n",
    "            print(p.info)\n",
    "            p = p.next\n",
    "        print(p.info)\n",
    "        \n",
    "    def deletionFirstNode(self):\n",
    "        p = self.start\n",
    "        q = p.next\n",
    "        self.start  = q\n",
    "        q.prev = None\n",
    "    \n",
    "    def deletionOnlyNode(self):\n",
    "        p = self.start\n",
    "        if p.next == None:\n",
    "            self.start = None\n",
    "        else:\n",
    "            print('More than one node present')\n",
    "    \n",
    "    def deletionBetweenList(self):\n",
    "        p = self.start\n",
    "        q = p.next\n",
    "        count = 1\n",
    "        #find middle\n",
    "        while q != None and q.next != None:\n",
    "            p = p.next\n",
    "            q = q.next.next\n",
    "            count +=1\n",
    "        #middle node = p\n",
    "        \n",
    "        p.next.prev = p.prev\n",
    "        p.prev.next = p.next\n",
    "    \n",
    "    def deletionLastNode(self):\n",
    "        p = self.start\n",
    "        while p.next != None:\n",
    "            p = p.next\n",
    "        p.prev.next =  None\n",
    "        p.prev = None\n",
    "        \n",
    "        \n",
    "    def reverseDoubleLinkList(self):\n",
    "        p1 = self.start\n",
    "        p2 = p1.next\n",
    "        p1.next = None\n",
    "        p1.previous = p2\n",
    "        \n",
    "        while p2 != None:\n",
    "            p2.previous = p2.next\n",
    "            p2.next = p1\n",
    "            p1 = p2\n",
    "            p2 = p2.previous\n",
    "        self.start = p1\n",
    "        \n",
    "        \n",
    "    def concatenate(self,list2):\n",
    "        list1 = self.start\n",
    "        while list1.next != None:\n",
    "            list1 = list1.next\n",
    "        \n",
    "        list1.next = list2.start\n",
    "        list2.start.prev = list1\n",
    "        \n",
    "            \n",
    "        \n",
    "        \n",
    "            \n",
    "        \n",
    "    "
   ]
  },
  {
   "cell_type": "code",
   "execution_count": 541,
   "metadata": {},
   "outputs": [],
   "source": [
    "list1 = doublyLinkList()\n",
    "node = doublyNode(0)\n"
   ]
  },
  {
   "cell_type": "code",
   "execution_count": 542,
   "metadata": {},
   "outputs": [],
   "source": [
    "list1.insertionEmpyList(node)"
   ]
  },
  {
   "cell_type": "code",
   "execution_count": 545,
   "metadata": {},
   "outputs": [],
   "source": [
    "node = doublyNode(2)"
   ]
  },
  {
   "cell_type": "code",
   "execution_count": 546,
   "metadata": {},
   "outputs": [],
   "source": [
    "list1.insertNewNodeBegining(node)"
   ]
  },
  {
   "cell_type": "code",
   "execution_count": 547,
   "metadata": {
    "scrolled": false
   },
   "outputs": [
    {
     "name": "stdout",
     "output_type": "stream",
     "text": [
      "2\n",
      "1\n",
      "0\n"
     ]
    }
   ],
   "source": [
    "list1.displayDoubleLinkList()"
   ]
  },
  {
   "cell_type": "code",
   "execution_count": 549,
   "metadata": {},
   "outputs": [],
   "source": [
    "list1.concatenate(list2)"
   ]
  },
  {
   "cell_type": "code",
   "execution_count": 548,
   "metadata": {},
   "outputs": [
    {
     "name": "stdout",
     "output_type": "stream",
     "text": [
      "7\n",
      "6\n",
      "5\n",
      "4\n"
     ]
    }
   ],
   "source": [
    "list2.displayDoubleLinkList()"
   ]
  },
  {
   "cell_type": "code",
   "execution_count": 550,
   "metadata": {},
   "outputs": [
    {
     "name": "stdout",
     "output_type": "stream",
     "text": [
      "2\n",
      "1\n",
      "0\n",
      "7\n",
      "6\n",
      "5\n",
      "4\n"
     ]
    }
   ],
   "source": [
    "list1.displayDoubleLinkList()"
   ]
  },
  {
   "cell_type": "code",
   "execution_count": 443,
   "metadata": {},
   "outputs": [
    {
     "ename": "AttributeError",
     "evalue": "'doublyLinkList' object has no attribute 'self'",
     "output_type": "error",
     "traceback": [
      "\u001b[0;31m---------------------------------------------------------------------------\u001b[0m",
      "\u001b[0;31mAttributeError\u001b[0m                            Traceback (most recent call last)",
      "\u001b[0;32m<ipython-input-443-f75855480762>\u001b[0m in \u001b[0;36m<module>\u001b[0;34m\u001b[0m\n\u001b[0;32m----> 1\u001b[0;31m \u001b[0mlist1\u001b[0m\u001b[0;34m.\u001b[0m\u001b[0mconcatenate\u001b[0m\u001b[0;34m(\u001b[0m\u001b[0mlist2\u001b[0m\u001b[0;34m)\u001b[0m\u001b[0;34m\u001b[0m\u001b[0;34m\u001b[0m\u001b[0m\n\u001b[0m",
      "\u001b[0;32m<ipython-input-393-e095935fbf54>\u001b[0m in \u001b[0;36mconcatenate\u001b[0;34m(self, list2)\u001b[0m\n\u001b[1;32m    119\u001b[0m             \u001b[0mlist1\u001b[0m \u001b[0;34m=\u001b[0m \u001b[0mlist1\u001b[0m\u001b[0;34m.\u001b[0m\u001b[0mnext\u001b[0m\u001b[0;34m\u001b[0m\u001b[0;34m\u001b[0m\u001b[0m\n\u001b[1;32m    120\u001b[0m \u001b[0;34m\u001b[0m\u001b[0m\n\u001b[0;32m--> 121\u001b[0;31m         \u001b[0mlist1\u001b[0m\u001b[0;34m.\u001b[0m\u001b[0mnext\u001b[0m \u001b[0;34m=\u001b[0m \u001b[0mlist2\u001b[0m\u001b[0;34m.\u001b[0m\u001b[0mself\u001b[0m\u001b[0;34m.\u001b[0m\u001b[0mstart\u001b[0m\u001b[0;34m\u001b[0m\u001b[0;34m\u001b[0m\u001b[0m\n\u001b[0m\u001b[1;32m    122\u001b[0m         \u001b[0mlist2\u001b[0m\u001b[0;34m.\u001b[0m\u001b[0mself\u001b[0m\u001b[0;34m.\u001b[0m\u001b[0mstart\u001b[0m\u001b[0;34m.\u001b[0m\u001b[0mprev\u001b[0m \u001b[0;34m=\u001b[0m \u001b[0mlist1\u001b[0m\u001b[0;34m\u001b[0m\u001b[0;34m\u001b[0m\u001b[0m\n\u001b[1;32m    123\u001b[0m \u001b[0;34m\u001b[0m\u001b[0m\n",
      "\u001b[0;31mAttributeError\u001b[0m: 'doublyLinkList' object has no attribute 'self'"
     ]
    }
   ],
   "source": [
    "list1.concatenate(list2)"
   ]
  },
  {
   "cell_type": "code",
   "execution_count": null,
   "metadata": {},
   "outputs": [],
   "source": []
  },
  {
   "cell_type": "code",
   "execution_count": null,
   "metadata": {},
   "outputs": [],
   "source": []
  },
  {
   "cell_type": "code",
   "execution_count": 227,
   "metadata": {},
   "outputs": [],
   "source": [
    "list1.reverseDoubleLinkList()"
   ]
  },
  {
   "cell_type": "code",
   "execution_count": 178,
   "metadata": {
    "scrolled": true
   },
   "outputs": [],
   "source": [
    "list1.deletionFirstNode()"
   ]
  },
  {
   "cell_type": "code",
   "execution_count": 228,
   "metadata": {},
   "outputs": [
    {
     "name": "stdout",
     "output_type": "stream",
     "text": [
      "4\n",
      "2\n",
      "20\n",
      "10\n",
      "30\n",
      "3\n"
     ]
    }
   ],
   "source": [
    "list1.displayDoubleLinkList()"
   ]
  },
  {
   "cell_type": "code",
   "execution_count": null,
   "metadata": {},
   "outputs": [],
   "source": []
  },
  {
   "cell_type": "code",
   "execution_count": null,
   "metadata": {},
   "outputs": [],
   "source": []
  },
  {
   "cell_type": "markdown",
   "metadata": {},
   "source": [
    "# Circular Link List"
   ]
  },
  {
   "cell_type": "code",
   "execution_count": 552,
   "metadata": {},
   "outputs": [],
   "source": [
    "class circularNode():\n",
    "    def __init__(self,value):\n",
    "        self.info = value\n",
    "        self.link = None\n",
    "        \n",
    "class circularLinkList():\n",
    "    def __init__(self):\n",
    "        self.last = None\n",
    "        \n",
    "    def insertBeginingOfList(self,node):\n",
    "        node.link = self.last.link\n",
    "        self.last.link = node\n",
    "        \n",
    "    def insertionEmptyList(self,node):\n",
    "        if self.last == None:\n",
    "            self.last = node\n",
    "            self.last.link = self.last \n",
    "        else:\n",
    "            print('circular link list is not empty')\n",
    "            \n",
    "    def insertionEndOfList(self,node):\n",
    "        if self.last == None:\n",
    "            print('Circular link list is empty')\n",
    "        else:\n",
    "            node.link = self.last.link\n",
    "            self.last.link = node \n",
    "            self.last = node \n",
    "            \n",
    "    def createCircularLinkList(self):\n",
    "        n = int(input('How many nodes do you want in circular link list'))\n",
    "        node = int(input('What is your first node: '))\n",
    "        node = circularNode(node)\n",
    "        self.insertionEmptyList(node)\n",
    "        for i in range(n-1):\n",
    "            node = int(input(f'What should be in node {i+1}: '))\n",
    "            node = circularNode(node)\n",
    "            self.insertBeginingOfList(node)\n",
    "        \n",
    "    def insertAfter(self,node,x):\n",
    "        p = self.last\n",
    "        while p.link != self.last:\n",
    "            if p.info == x:\n",
    "                node.link = p.link\n",
    "                p.link = node\n",
    "                return\n",
    "            p = p.link\n",
    "        print('node not found')\n",
    "    \n",
    "    def insertBefore(self,node,x):\n",
    "        p = self.last\n",
    "        while p.link != self.last:\n",
    "            if p.link.info == x:\n",
    "                node.link = p.link\n",
    "                p.link = node\n",
    "                return\n",
    "              \n",
    "        print(p.link.info)\n",
    "        if p.link.info == x:\n",
    "            node.link = p.link\n",
    "            p.link = node\n",
    "        \n",
    "        \n",
    "    def deleteFirstNode(self):\n",
    "        if self.last ==  None:\n",
    "            print('node is empty')\n",
    "        elif self.last.link == self.last: \n",
    "            self.last.link = self.last\n",
    "            self.last = None\n",
    "        else:\n",
    "            self.last.link = self.last.link.link\n",
    "            \n",
    "    def deleteLastNode(self):\n",
    "        p = self.last\n",
    "        \n",
    "        if p.link == self.last:\n",
    "            self.start = None\n",
    "            return\n",
    "        \n",
    "        else:\n",
    "            while p.link != self.last:\n",
    "                p = p.link\n",
    "            p.link = self.last.link\n",
    "            \n",
    "    def deletionMiddleNode(self):\n",
    "        p = self.last\n",
    "        slow = self.last.link\n",
    "        fast = self.last.link\n",
    "        prev = None\n",
    "        \n",
    "        while fast.link != self.last and fast != self.last:\n",
    "            prev = slow\n",
    "            slow = slow.link\n",
    "            fast = fast.link.link\n",
    "        \n",
    "        #middle  = slow\n",
    "        prev.link = slow.link\n",
    "        \n",
    "        \n",
    "        \n",
    "        \n",
    "        \n",
    "    def deleteSpecificNode(self,node):\n",
    "        p = self.last\n",
    "        while p.link != self.last:\n",
    "            if p.link.info == node:\n",
    "                p.link = p.link.link\n",
    "                break\n",
    "            p = p.link\n",
    "            \n",
    "        if p.link.info == node:\n",
    "            p.link = self.last.link\n",
    "            \n",
    "        \n",
    "    def displayCircularLinkList(self):\n",
    "        p = self.last.link\n",
    "        \n",
    "        if self.last == None:\n",
    "            print('Empty circular list')\n",
    "        \n",
    "        while p.link != self.last.link:\n",
    "            print(p.info)\n",
    "            p = p.link\n",
    "        print(p.info)\n",
    "    \n",
    "    def concatenate(self,list2):\n",
    "        list2.last.link = self.last.link\n",
    "        self.last.link = list2.last.link\n",
    "        self.last = list2.last\n",
    "        "
   ]
  },
  {
   "cell_type": "code",
   "execution_count": 553,
   "metadata": {},
   "outputs": [],
   "source": [
    "list1 = circularLinkList()\n",
    "node = circularNode(5)"
   ]
  },
  {
   "cell_type": "code",
   "execution_count": 554,
   "metadata": {},
   "outputs": [
    {
     "name": "stdout",
     "output_type": "stream",
     "text": [
      "How many nodes do you want in circular link list3\n",
      "What is your first node: 1\n",
      "What should be in node 1: 2\n",
      "What should be in node 2: 3\n"
     ]
    }
   ],
   "source": [
    "list1.createCircularLinkList()"
   ]
  },
  {
   "cell_type": "code",
   "execution_count": 390,
   "metadata": {},
   "outputs": [
    {
     "name": "stdout",
     "output_type": "stream",
     "text": [
      "5\n",
      "4\n",
      "3\n",
      "2\n",
      "1\n"
     ]
    }
   ],
   "source": [
    "list1.displayCircularLinkList()"
   ]
  },
  {
   "cell_type": "code",
   "execution_count": 391,
   "metadata": {},
   "outputs": [],
   "source": [
    "list1.deletionMiddleNode()"
   ]
  },
  {
   "cell_type": "code",
   "execution_count": 392,
   "metadata": {},
   "outputs": [
    {
     "name": "stdout",
     "output_type": "stream",
     "text": [
      "5\n",
      "4\n",
      "2\n",
      "1\n"
     ]
    }
   ],
   "source": [
    "list1.displayCircularLinkList()"
   ]
  },
  {
   "cell_type": "code",
   "execution_count": 341,
   "metadata": {},
   "outputs": [],
   "source": [
    "list1.deleteSpecificNode(3)"
   ]
  },
  {
   "cell_type": "code",
   "execution_count": 342,
   "metadata": {
    "scrolled": true
   },
   "outputs": [
    {
     "name": "stdout",
     "output_type": "stream",
     "text": [
      "1\n"
     ]
    }
   ],
   "source": [
    "list1.displayCircularLinkList()"
   ]
  },
  {
   "cell_type": "code",
   "execution_count": 359,
   "metadata": {},
   "outputs": [],
   "source": [
    "node = circularNode(0)"
   ]
  },
  {
   "cell_type": "code",
   "execution_count": 354,
   "metadata": {},
   "outputs": [],
   "source": [
    "list1.insertAfter(node,2)"
   ]
  },
  {
   "cell_type": "code",
   "execution_count": 355,
   "metadata": {},
   "outputs": [
    {
     "name": "stdout",
     "output_type": "stream",
     "text": [
      "2\n",
      "3\n",
      "5\n",
      "1\n"
     ]
    }
   ],
   "source": [
    "list1.displayCircularLinkList()"
   ]
  },
  {
   "cell_type": "code",
   "execution_count": 352,
   "metadata": {},
   "outputs": [
    {
     "data": {
      "text/plain": [
       "<__main__.circularLinkList at 0x10c9ecb38>"
      ]
     },
     "execution_count": 352,
     "metadata": {},
     "output_type": "execute_result"
    }
   ],
   "source": [
    "list1"
   ]
  },
  {
   "cell_type": "code",
   "execution_count": 360,
   "metadata": {},
   "outputs": [],
   "source": [
    "list1.insertBeginingOfList(node)"
   ]
  },
  {
   "cell_type": "code",
   "execution_count": 361,
   "metadata": {},
   "outputs": [
    {
     "name": "stdout",
     "output_type": "stream",
     "text": [
      "0\n",
      "2\n",
      "3\n",
      "5\n",
      "1\n",
      "7\n"
     ]
    }
   ],
   "source": [
    "list1.displayCircularLinkList()"
   ]
  },
  {
   "cell_type": "code",
   "execution_count": null,
   "metadata": {},
   "outputs": [],
   "source": []
  },
  {
   "cell_type": "code",
   "execution_count": null,
   "metadata": {},
   "outputs": [],
   "source": []
  },
  {
   "cell_type": "code",
   "execution_count": null,
   "metadata": {},
   "outputs": [],
   "source": []
  },
  {
   "cell_type": "markdown",
   "metadata": {},
   "source": [
    "# Header Link List"
   ]
  },
  {
   "cell_type": "code",
   "execution_count": 579,
   "metadata": {},
   "outputs": [],
   "source": [
    "class headerNode():\n",
    "    def __init__(self,value):\n",
    "        self.info = value\n",
    "        self.link = None\n",
    "\n",
    "class headerLinkList():\n",
    "    def __init__(self):\n",
    "        self.head = Node(0)\n",
    "    \n",
    "    def displayHeaderLinkList(self):\n",
    "        p = self.head\n",
    "        while p.link != None:\n",
    "            print(p.info)\n",
    "            p = p.link\n",
    "        print(p.info)\n",
    "    \n",
    "    def createLinkList(self):\n",
    "        count = int(input('Enter number of nodes'))\n",
    "        p = self.head\n",
    "        for i in range(count):\n",
    "            node = int(input(f'Enter value at node {i}: '))\n",
    "            node = Node(node)\n",
    "            self.insertEnd(node)\n",
    "            \n",
    "    def insertEnd(self,node):\n",
    "        p = self.head\n",
    "        while p.link != None:\n",
    "            p = p.link\n",
    "        p.link = node\n",
    "        \n",
    "    def insertBefore(self,node,x):\n",
    "        p = self.head\n",
    "        while p.link != None:\n",
    "            if p.link.info == x:\n",
    "                break\n",
    "            p = p.link\n",
    "\n",
    "        if p.link == None:\n",
    "            print(f'{x} not in header link list')\n",
    "        else:\n",
    "            temp.link = p.link\n",
    "            p.link = temp\n",
    "    \n",
    "    def insert_position(self,x,node):\n",
    "        p = self.head\n",
    "        position = 1\n",
    "        while position <= x-1 and p.link != None:\n",
    "            position+=1\n",
    "            p = p.link\n",
    "            \n",
    "            \n",
    "        if p.link == None:\n",
    "            print('position does not exist in Header Link list')\n",
    "        else:\n",
    "            node.link = p.link\n",
    "            p.link = node\n",
    "    \n",
    "    def deleteNode(self,node):\n",
    "        p = self.head\n",
    "        while p.link != None:\n",
    "            if p.link.info == node:\n",
    "                node.link = p.link.link\n",
    "                p.link = node\n",
    "                break\n",
    "            p = p.link\n",
    "        print()\n",
    "        \n",
    "    def reverse_list(self):\n",
    "        p = self.head.link\n",
    "        prev = None\n",
    "        while p != None:\n",
    "            _next = p.link\n",
    "            p.link = prev\n",
    "            prev = p\n",
    "            p = _next\n",
    "        self.head.link = prev\n",
    "            \n",
    "            \n",
    "        "
   ]
  },
  {
   "cell_type": "code",
   "execution_count": 580,
   "metadata": {},
   "outputs": [],
   "source": [
    "list1 = headerLinkList()"
   ]
  },
  {
   "cell_type": "code",
   "execution_count": 581,
   "metadata": {},
   "outputs": [
    {
     "name": "stdout",
     "output_type": "stream",
     "text": [
      "Enter number of nodes3\n",
      "Enter value at node 0: 1\n",
      "Enter value at node 1: 2\n",
      "Enter value at node 2: 3\n"
     ]
    }
   ],
   "source": [
    "list1.createLinkList()"
   ]
  },
  {
   "cell_type": "code",
   "execution_count": 582,
   "metadata": {},
   "outputs": [
    {
     "name": "stdout",
     "output_type": "stream",
     "text": [
      "0\n",
      "1\n",
      "2\n",
      "3\n"
     ]
    }
   ],
   "source": [
    "list1.displayHeaderLinkList()"
   ]
  },
  {
   "cell_type": "code",
   "execution_count": 583,
   "metadata": {},
   "outputs": [],
   "source": [
    "list1.reverse_list()"
   ]
  },
  {
   "cell_type": "code",
   "execution_count": 584,
   "metadata": {},
   "outputs": [
    {
     "name": "stdout",
     "output_type": "stream",
     "text": [
      "0\n",
      "3\n",
      "2\n",
      "1\n"
     ]
    }
   ],
   "source": [
    "list1.displayHeaderLinkList()"
   ]
  },
  {
   "cell_type": "code",
   "execution_count": null,
   "metadata": {},
   "outputs": [],
   "source": [
    "a"
   ]
  }
 ],
 "metadata": {
  "kernelspec": {
   "display_name": "Python 3",
   "language": "python",
   "name": "python3"
  },
  "language_info": {
   "codemirror_mode": {
    "name": "ipython",
    "version": 3
   },
   "file_extension": ".py",
   "mimetype": "text/x-python",
   "name": "python",
   "nbconvert_exporter": "python",
   "pygments_lexer": "ipython3",
   "version": "3.7.3"
  }
 },
 "nbformat": 4,
 "nbformat_minor": 2
}
