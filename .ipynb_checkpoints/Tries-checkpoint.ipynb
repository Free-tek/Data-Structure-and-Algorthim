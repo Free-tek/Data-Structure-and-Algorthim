{
 "cells": [
  {
   "cell_type": "code",
   "execution_count": null,
   "metadata": {},
   "outputs": [],
   "source": [
    "class Trie:\n",
    "    def __init__(self):\n",
    "        self.root = {'*':'*'}\n",
    "        \n",
    "    def insert(self, word):\n",
    "        currentTrie = self.root\n",
    "        for letter in word:\n",
    "            if letter not in currentTrie:\n",
    "                currentTrie[letter] = {}\n",
    "            currentTrie = currentTrie[letter]\n",
    "        currentTrie['*'] = '*'\n",
    "    \n",
    "    def exist(self, word):\n",
    "        currentTrie = self.root\n",
    "        for letter in word:\n",
    "            if letter not in currentTrie:\n",
    "                return False\n",
    "            currentTrie = currentTrie[letter]\n",
    "        return True"
   ]
  }
 ],
 "metadata": {
  "kernelspec": {
   "display_name": "Python 3",
   "language": "python",
   "name": "python3"
  },
  "language_info": {
   "codemirror_mode": {
    "name": "ipython",
    "version": 3
   },
   "file_extension": ".py",
   "mimetype": "text/x-python",
   "name": "python",
   "nbconvert_exporter": "python",
   "pygments_lexer": "ipython3",
   "version": "3.7.3"
  }
 },
 "nbformat": 4,
 "nbformat_minor": 2
}
