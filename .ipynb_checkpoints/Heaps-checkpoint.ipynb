{
 "cells": [
  {
   "cell_type": "code",
   "execution_count": 255,
   "metadata": {},
   "outputs": [],
   "source": [
    "class Heap:\n",
    "    def __init__(self,maxSize = 10):\n",
    "        self.item = [None] * maxSize\n",
    "        self.count = 0\n",
    "        self.item[0] = 9999\n",
    "        \n",
    "    def insert(self,item):\n",
    "        self.item[self.count+1] = item\n",
    "        self.restoreUp(item)\n",
    "        self.count+=1\n",
    "        \n",
    "    def restoreUp(self,item):\n",
    "        prevIndex = (self.count+1) // 2   #--> prevIndex = 1\n",
    "        a = self.count+1                  #--> a = 2\n",
    "        while self.item[prevIndex] < item:                            #-> list[1]\n",
    "            if a%2 == 0:\n",
    "                self.item[prevIndex*2] = self.item[prevIndex]\n",
    "            else:\n",
    "                self.item[(prevIndex*2) + 1] = self.item[prevIndex]\n",
    "            self.item[prevIndex] = item\n",
    "            prevIndex = prevIndex//2\n",
    "            \n",
    "    def delete(self):\n",
    "        leafNode = self.item[self.count]\n",
    "        root = self.item[1]\n",
    "        \n",
    "        if leafNode != None:\n",
    "            self.item[1] = leafNode\n",
    "            self.item[self.count] = None\n",
    "            self.count -=1\n",
    "            self.restoreDown()\n",
    "            \n",
    "            \n",
    "    def restoreDown(self):\n",
    "        parentIndex = 1\n",
    "        leftChild = 2*parentIndex\n",
    "        rightChild = (2*parentIndex) + 1\n",
    "        \n",
    "        while leftChild < self.count:\n",
    "            print(rightChild, self.count, self.item[parentIndex] < self.item[leftChild])\n",
    "            \n",
    "            if rightChild > self.count and self.item[parentIndex] < self.item[leftChild]:\n",
    "                #leftChild is larger parent so swap left child for parent\n",
    "                temp = self.item[parentIndex]\n",
    "                self.item[parentIndex] = self.item[leftChild]\n",
    "                self.item[leftChild] = temp\n",
    "                parentIndex = leftChild\n",
    "                \n",
    "                \n",
    "            elif rightChild > self.count and self.item[parentIndex] > self.item[leftChild]:\n",
    "                break\n",
    "                \n",
    "            elif rightChild <= self.count:\n",
    "                #both right and left child exist\n",
    "                if self.item[rightChild] > self.item[leftChild] and self.item[rightChild] > self.item[parentIndex]:\n",
    "                    temp = self.item[parentIndex]\n",
    "                    self.item[parentIndex] = self.item[rightChild]\n",
    "                    self.item[rightChild] = temp\n",
    "                    parentIndex = rightChild\n",
    "                    \n",
    "                    \n",
    "                elif self.item[leftChild] >= self.item[rightChild] and self.item[leftChild] > self.item[parentIndex]:\n",
    "                    temp = self.item[parentIndex]\n",
    "                    self.item[parentIndex] = self.item[leftChild]\n",
    "                    self.item[leftChild] = temp\n",
    "                    parentIndex = leftChild\n",
    "                    \n",
    "                    \n",
    "                else:\n",
    "                    break\n",
    "                    \n",
    "            leftChild = 2*parentIndex\n",
    "            rightChild = (2*parentIndex) + 1\n",
    "        \n",
    "            print(leftChild,self.count)\n",
    "            \n",
    "    def display(self):\n",
    "        print(self.item[1:])\n",
    "            \n",
    "        "
   ]
  },
  {
   "cell_type": "code",
   "execution_count": 256,
   "metadata": {},
   "outputs": [],
   "source": [
    "heap = Heap()\n",
    "heap.insert(10)"
   ]
  },
  {
   "cell_type": "code",
   "execution_count": 259,
   "metadata": {},
   "outputs": [],
   "source": [
    "heap.insert(11)"
   ]
  },
  {
   "cell_type": "code",
   "execution_count": 262,
   "metadata": {},
   "outputs": [
    {
     "name": "stdout",
     "output_type": "stream",
     "text": [
      "[11, 3, 10, None, None, None, None, None, None]\n"
     ]
    }
   ],
   "source": [
    "heap.display()"
   ]
  },
  {
   "cell_type": "code",
   "execution_count": 261,
   "metadata": {},
   "outputs": [
    {
     "name": "stdout",
     "output_type": "stream",
     "text": [
      "3 3 True\n",
      "got here3\n",
      "4 3\n"
     ]
    }
   ],
   "source": [
    "heap.delete()"
   ]
  }
 ],
 "metadata": {
  "kernelspec": {
   "display_name": "Python 3",
   "language": "python",
   "name": "python3"
  },
  "language_info": {
   "codemirror_mode": {
    "name": "ipython",
    "version": 3
   },
   "file_extension": ".py",
   "mimetype": "text/x-python",
   "name": "python",
   "nbconvert_exporter": "python",
   "pygments_lexer": "ipython3",
   "version": "3.7.3"
  }
 },
 "nbformat": 4,
 "nbformat_minor": 2
}
