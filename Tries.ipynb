{
 "cells": [
  {
   "cell_type": "code",
   "execution_count": null,
   "metadata": {},
   "outputs": [],
   "source": [
    "class Trie:\n",
    "    def __init__(self):\n",
    "        self.root = {'*':'*'}\n",
    "        \n",
    "    def insert(self, word):\n",
    "        currentTrie = self.root\n",
    "        for letter in word:\n",
    "            if letter not in currentTrie:\n",
    "                currentTrie[letter] = {}\n",
    "            currentTrie = currentTrie[letter]\n",
    "        currentTrie['*'] = '*'\n",
    "    \n",
    "    def exist(self, word):\n",
    "        currentTrie = self.root\n",
    "        for letter in word:\n",
    "            if letter not in currentTrie:\n",
    "                return False\n",
    "            currentTrie = currentTrie[letter]\n",
    "        return True"
   ]
  },
  {
   "cell_type": "code",
   "execution_count": null,
   "metadata": {},
   "outputs": [],
   "source": []
  },
  {
   "cell_type": "code",
   "execution_count": null,
   "metadata": {},
   "outputs": [],
   "source": []
  },
  {
   "cell_type": "code",
   "execution_count": 3,
   "metadata": {},
   "outputs": [],
   "source": [
    "class Trie:\n",
    "    def __init__(self):\n",
    "        self.root = {'*':'*'}\n",
    "        \n",
    "    def insert(self, word):\n",
    "        current = self.root\n",
    "        for char in word:\n",
    "            if char not in current:\n",
    "                current[char] = {}\n",
    "            current = current[char]\n",
    "        current['*'] = '*'\n",
    "        \n",
    "    def search(self,word):\n",
    "        current = self.root\n",
    "        for char in word:\n",
    "            if char not in current:\n",
    "                return False\n",
    "            else:\n",
    "                current = current[char]\n",
    "        return True\n",
    "    \n",
    "    def display(self):\n",
    "        current = self.root\n",
    "        print(current)\n",
    "            \n",
    "        \n",
    "        "
   ]
  },
  {
   "cell_type": "code",
   "execution_count": 4,
   "metadata": {},
   "outputs": [],
   "source": [
    "tri = Trie()"
   ]
  },
  {
   "cell_type": "code",
   "execution_count": 14,
   "metadata": {},
   "outputs": [],
   "source": [
    "tri.insert('cup')"
   ]
  },
  {
   "cell_type": "code",
   "execution_count": 15,
   "metadata": {},
   "outputs": [
    {
     "name": "stdout",
     "output_type": "stream",
     "text": [
      "{'*': '*', 'b': {'o': {'o': {'k': {'k': {'e': {'p': {'p': {'e': {'r': {'*': '*'}}}}}}, '*': '*'}}}}, 'c': {'u': {'p': {'*': '*'}}}}\n"
     ]
    }
   ],
   "source": [
    "tri.display()"
   ]
  },
  {
   "cell_type": "code",
   "execution_count": 18,
   "metadata": {},
   "outputs": [
    {
     "data": {
      "text/plain": [
       "True"
      ]
     },
     "execution_count": 18,
     "metadata": {},
     "output_type": "execute_result"
    }
   ],
   "source": [
    "tri.search('cup')"
   ]
  },
  {
   "cell_type": "code",
   "execution_count": null,
   "metadata": {},
   "outputs": [],
   "source": []
  },
  {
   "cell_type": "code",
   "execution_count": null,
   "metadata": {},
   "outputs": [],
   "source": []
  }
 ],
 "metadata": {
  "kernelspec": {
   "display_name": "Python 3",
   "language": "python",
   "name": "python3"
  },
  "language_info": {
   "codemirror_mode": {
    "name": "ipython",
    "version": 3
   },
   "file_extension": ".py",
   "mimetype": "text/x-python",
   "name": "python",
   "nbconvert_exporter": "python",
   "pygments_lexer": "ipython3",
   "version": "3.7.3"
  }
 },
 "nbformat": 4,
 "nbformat_minor": 2
}
