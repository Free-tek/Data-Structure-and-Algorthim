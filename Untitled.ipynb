{
 "cells": [
  {
   "cell_type": "code",
   "execution_count": 1,
   "metadata": {},
   "outputs": [],
   "source": [
    "j = [1,2,3,4]\n",
    "k = [5,6,7,8]"
   ]
  },
  {
   "cell_type": "code",
   "execution_count": 2,
   "metadata": {},
   "outputs": [
    {
     "ename": "NameError",
     "evalue": "name 'arr' is not defined",
     "output_type": "error",
     "traceback": [
      "\u001b[0;31m---------------------------------------------------------------------------\u001b[0m",
      "\u001b[0;31mNameError\u001b[0m                                 Traceback (most recent call last)",
      "\u001b[0;32m<ipython-input-2-f0a005d02747>\u001b[0m in \u001b[0;36m<module>\u001b[0;34m\u001b[0m\n\u001b[0;32m----> 1\u001b[0;31m \u001b[0mn\u001b[0m\u001b[0;34m=\u001b[0m\u001b[0marr\u001b[0m\u001b[0;34m[\u001b[0m\u001b[0mj\u001b[0m\u001b[0;34m]\u001b[0m\u001b[0;34m[\u001b[0m\u001b[0mk\u001b[0m\u001b[0;34m]\u001b[0m\u001b[0;34m\u001b[0m\u001b[0;34m\u001b[0m\u001b[0m\n\u001b[0m",
      "\u001b[0;31mNameError\u001b[0m: name 'arr' is not defined"
     ]
    }
   ],
   "source": [
    "n= arr[j][k]"
   ]
  },
  {
   "cell_type": "code",
   "execution_count": 3,
   "metadata": {},
   "outputs": [
    {
     "name": "stdout",
     "output_type": "stream",
     "text": [
      "[[0, 0, 0, 0, 0], [0, 0, 0, 0, 0], [0, 0, 0, 1, 0], [0, 0, 0, 0, 0], [0, 0, 0, 0, 0]]\n"
     ]
    }
   ],
   "source": [
    "def co_ordinate(arr,j,k):\n",
    "    n=arr[j][k]\n",
    "    \n",
    "    if len(arr)==1:\n",
    "        if j==0 and arr[0][1]>=arr[0][0]: \n",
    "            return 0\n",
    "        elif k==len(arr[0]-1) and arr[0][len(arr[0])-2]>=arr[0][len(arr[0]-1)]: \n",
    "            return 0\n",
    "        elif arr[j][k-1]>=n or arr[j][k+1]>=n: \n",
    "            return 0\n",
    "    if j==0 and k==0 and arr[0][1]>=n or arr[1][0]>=n or arr[1][1]>=n: \n",
    "        return 0 #top left\n",
    "    elif j==0 and k==len(arr[0])-1 and arr[0][len(arr[0])-2]>=n or arr[1][len(arr[0])-1]>=n or arr[1][len(arr[0])-2]>=n: \n",
    "        return 0  #top right\n",
    "    elif j==len(arr)-1 and k==0 and arr[len(arr)-2][0]>=n or arr[len(arr)-1][1]>=n or arr[len(arr)-2][1]>=n: \n",
    "        return 0  #bottom left\n",
    "    elif j==len(arr)-1 and k==len(arr[0])-1 and arr[len(arr)-1][len(arr[0])-2]>=n or arr[len(arr)-2][len(arr[0])-2]>=n or arr[len(arr)-2][len(arr[0])-1]>=n: \n",
    "        return 0 #bottom right\n",
    "    elif k==0 and arr[j-1][k]>=n or arr[j+1][k]>=n or arr[j][k+1]>=n or arr[j-1][k-1]>=n or arr[j+1][k+1]>=n: \n",
    "        return 0 #first column\n",
    "    elif k==len(arr[0])-1 and arr[j-1][k]>=n or arr[j+1][k]>=n or arr[j][k-1]>=n or arr[j-1][k-1]>=n or arr[j+1][k-1]>=n: \n",
    "        return 0 #last column\n",
    "    elif j==0 and arr[j][k-1]>=n or arr[j][k+1]>=n or arr[j+1][k]>=n or arr[j-1][k-1]>=n or arr[j+1][k+1]>=n: \n",
    "        return 0 #first row\n",
    "    elif j==len(arr)-1 and arr[j][k-1]>=n or arr[j-1][k-1]>=n or arr[j-1][k]>=n or arr[j-1][k+1]>=n or arr[j][k+1]>=n: \n",
    "        return 0 #last row\n",
    "    elif arr[j-1][k]>=n or arr[j+1][k]>=n or arr[j][k+1]>=n or arr[j][k-1]>=n or arr[j-1][k-1]>=n or arr[j-1][k+1]>=n or arr[j+1][k-1]>=n or arr[j+1][k+1]>=n: \n",
    "        return 0\n",
    "    return 1\n",
    "\n",
    "\n",
    "arr=[[1,2,1,3,4],[1,5,2,2,2],[4,5,1,9,7],[3,5,3,7,6],[4,3,1,7,3]]\n",
    "arr1=[[1,1,1,1,1],[1,2,2,2,1],[1,2,3,2,1],[1,2,2,2,1],[1,1,1,1,1],[1,1,1,1,3]]\n",
    "p=[]\n",
    "for j in range(len(arr)):\n",
    "    l=[]\n",
    "    for k in range(len(arr[0])):\n",
    "        l.append(co_ordinate(arr,j,k))\n",
    "    p.append(l)\n",
    "print(p)"
   ]
  },
  {
   "cell_type": "code",
   "execution_count": 6,
   "metadata": {},
   "outputs": [],
   "source": [
    "arr=[[1,2,1,3,4],[1,5,2,2,2],[4,5,1,9,7],[3,5,3,7,6],[4,3,1,7,3]]\n",
    "j = 0\n",
    "k = 0,1,2,3,4,5"
   ]
  },
  {
   "cell_type": "code",
   "execution_count": 8,
   "metadata": {},
   "outputs": [],
   "source": [
    "n=arr[0][0]"
   ]
  },
  {
   "cell_type": "code",
   "execution_count": 9,
   "metadata": {},
   "outputs": [
    {
     "data": {
      "text/plain": [
       "1"
      ]
     },
     "execution_count": 9,
     "metadata": {},
     "output_type": "execute_result"
    }
   ],
   "source": [
    "n"
   ]
  },
  {
   "cell_type": "code",
   "execution_count": 13,
   "metadata": {},
   "outputs": [
    {
     "data": {
      "text/plain": [
       "5"
      ]
     },
     "execution_count": 13,
     "metadata": {},
     "output_type": "execute_result"
    }
   ],
   "source": [
    "arr=[[1,2,1,3,4],[1,5,2,2,2],[4,5,1,9,7],[3,5,3,7,6],[4,3,1,7,3]]\n",
    "len(arr)"
   ]
  },
  {
   "cell_type": "code",
   "execution_count": 79,
   "metadata": {
    "scrolled": false
   },
   "outputs": [
    {
     "data": {
      "text/plain": [
       "\"\\nif __name__ == '__main__':\\n    fptr = open(os.environ['OUTPUT_PATH'], 'w')\\n\\n    elevations_rows = int(input().strip())\\n    elevations_columns = int(input().strip())\\n\\n    elevations = []\\n\\n    for _ in range(elevations_rows):\\n        elevations.append(list(map(int, input().rstrip().split())))\\n\\n    result = findHighPoints(elevations)\\n\\n    fptr.write('\\n'.join([' '.join(map(str, map(int, x))) for x in result]))\\n    fptr.write('\\n')\\n\\n    fptr.close()\\n\""
      ]
     },
     "execution_count": 79,
     "metadata": {},
     "output_type": "execute_result"
    }
   ],
   "source": [
    "#!/bin/python3\n",
    "\n",
    "import math\n",
    "import os\n",
    "import random\n",
    "import re\n",
    "import sys\n",
    "\n",
    "\n",
    "\n",
    "#\n",
    "# Complete the 'findHighPoints' function below.\n",
    "#\n",
    "# The function is expected to return a 2D_BOOLEAN_ARRAY.\n",
    "# The function accepts 2D_INTEGER_ARRAY elevations as parameter.\n",
    "#\n",
    "\n",
    "def findHighPoints(elevations):\n",
    "    \n",
    "    # Write your code here\n",
    "\n",
    "    rows = len(elevations)\n",
    "    columns  = len(elevations[0])\n",
    "    arow = [0] * (5)\n",
    "    answer = [arow] * (6)\n",
    "\n",
    "\n",
    "    #first row\n",
    "    for i in range(rows):\n",
    "        for j in range(columns):\n",
    "                #first row\n",
    "                if i == 0:\n",
    "                    #top right\n",
    "                    if i == 0 and j == 0:\n",
    "                        if elevations[i][j] > elevations[i][j+1] and elevations[i][j] > elevations[i+1][j]:\n",
    "                            answer[i][j] = 1\n",
    "                        else: \n",
    "                            answer[i][j] = 0\n",
    "                    #top left\n",
    "                    elif i == 0 and j == columns - 1:\n",
    "                        if elevations[i][j] > elevations[i][j-1] and elevations[i][j] > elevations[i+1][j]:\n",
    "                            answer[i][j] = 1\n",
    "                        else: \n",
    "                            answer[i][j] = 0\n",
    "                    #center\n",
    "                    else:\n",
    "                        if elevations[i][j] > elevations[i][j-1] and elevations[i][j] > elevations[i][j+1] and elevations[i][j] > elevations[i+1][j]:\n",
    "                            answer[i][j] = 1 \n",
    "                        else: \n",
    "                            answer[i][j] = 0\n",
    "\n",
    "                elif i == rows-1:\n",
    "\n",
    "                    #bottom right\n",
    "                    if j == 0:\n",
    "                        if elevations[i][j] > elevations[i][j+1] and elevations[i][j] > elevations[i-1][j]:\n",
    "                            answer[i][j] = 1\n",
    "                        else: \n",
    "                            answer[i][j] = 0\n",
    "                    #bottom left\n",
    "                    elif j == columns - 1:\n",
    "                        if elevations[i][j] > elevations[i][j-1] and elevations[i][j] > elevations[i-1][j]:\n",
    "                            answer[i][j] = 1\n",
    "                        else: \n",
    "                            answer[i][j] = 0\n",
    "                    #center\n",
    "                    else:\n",
    "                        if elevations[i][j] > elevations[i][j-1] and elevations[i][j] > elevations[i][j+1] and elevations[i][j] > elevations[i-1][j]:\n",
    "                            answer[i][j] = 1 \n",
    "                        else: \n",
    "                            answer[i][j] = 0\n",
    "                #center\n",
    "                else:\n",
    "                    #first column\n",
    "                    if j == 0:\n",
    "                        if elevations[i][j] > elevations[i][j+1] and elevations[i][j] > elevations[i-1][j] and elevations[i][j] > elevations[i+1][j]:\n",
    "                            answer[i][j] = 1 \n",
    "                        else: \n",
    "                            answer[i][j] = 0\n",
    "                    #last column\n",
    "                    elif j == columns - 1:\n",
    "                        if elevations[i][j] > elevations[i][j-1] and elevations[i][j] > elevations[i+1][j] and elevations[i][j] > elevations[i-1][j]:\n",
    "                            answer[i][j] = 1\n",
    "                        else: \n",
    "                            answer[i][j] = 0\n",
    "                    #middle\n",
    "                    else:\n",
    "                        if elevations[i][j] > elevations[i][j-1] and elevations[i][j] > elevations[i][j+1] and elevations[i][j] > elevations[i-1][j] and elevations[i][j] > elevations[i+1][j]:\n",
    "                            answer[i][j] = 1\n",
    "                        else: \n",
    "                            answer[i][j] = 0\n",
    "\n",
    "    return answer\n",
    "\n",
    "\n",
    "        \n",
    "            \n",
    "\n",
    "\n",
    "\n",
    "\n",
    "\n",
    "\n",
    "\n",
    "\n",
    "\n",
    "\n",
    "\n",
    "\n",
    "\n",
    "\n",
    "\n",
    "\n",
    "\n",
    "\n",
    "                \n",
    "\n",
    "\n",
    "\n",
    "\n",
    "\n",
    "\n",
    "\n",
    "\n",
    "\n",
    "\n",
    "\n",
    "\n",
    "\n",
    "'''\n",
    "if __name__ == '__main__':\n",
    "    fptr = open(os.environ['OUTPUT_PATH'], 'w')\n",
    "\n",
    "    elevations_rows = int(input().strip())\n",
    "    elevations_columns = int(input().strip())\n",
    "\n",
    "    elevations = []\n",
    "\n",
    "    for _ in range(elevations_rows):\n",
    "        elevations.append(list(map(int, input().rstrip().split())))\n",
    "\n",
    "    result = findHighPoints(elevations)\n",
    "\n",
    "    fptr.write('\\n'.join([' '.join(map(str, map(int, x))) for x in result]))\n",
    "    fptr.write('\\n')\n",
    "\n",
    "    fptr.close()\n",
    "'''\n"
   ]
  },
  {
   "cell_type": "code",
   "execution_count": 80,
   "metadata": {},
   "outputs": [
    {
     "ename": "SyntaxError",
     "evalue": "invalid syntax (<ipython-input-80-7115aaddeb3c>, line 1)",
     "output_type": "error",
     "traceback": [
      "\u001b[0;36m  File \u001b[0;32m\"<ipython-input-80-7115aaddeb3c>\"\u001b[0;36m, line \u001b[0;32m1\u001b[0m\n\u001b[0;31m    1 2 1 3 4\u001b[0m\n\u001b[0m      ^\u001b[0m\n\u001b[0;31mSyntaxError\u001b[0m\u001b[0;31m:\u001b[0m invalid syntax\n"
     ]
    }
   ],
   "source": [
    "1 2 1 3 4\n",
    "1 5 2 2 2\n",
    "4 5 1 9 7\n",
    "3 5 3 7 6\n",
    "4 3 1 7 3"
   ]
  },
  {
   "cell_type": "code",
   "execution_count": 81,
   "metadata": {},
   "outputs": [],
   "source": [
    "arr=[[1,2,1,3,4],[1,5,2,2,2],[4,5,1,9,7],[3,5,3,7,6],[4,3,1,7,3]]"
   ]
  },
  {
   "cell_type": "code",
   "execution_count": 82,
   "metadata": {},
   "outputs": [
    {
     "data": {
      "text/plain": [
       "[[1, 0, 0, 0, 0],\n",
       " [1, 0, 0, 0, 0],\n",
       " [1, 0, 0, 0, 0],\n",
       " [1, 0, 0, 0, 0],\n",
       " [1, 0, 0, 0, 0],\n",
       " [1, 0, 0, 0, 0]]"
      ]
     },
     "execution_count": 82,
     "metadata": {},
     "output_type": "execute_result"
    }
   ],
   "source": [
    "findHighPoints(arr)"
   ]
  },
  {
   "cell_type": "code",
   "execution_count": 69,
   "metadata": {},
   "outputs": [],
   "source": [
    "rows = 5\n",
    "columns  = 6\n",
    "arow = [0] * (rows)\n",
    "answer = [arow] * (columns)"
   ]
  },
  {
   "cell_type": "code",
   "execution_count": 70,
   "metadata": {},
   "outputs": [
    {
     "data": {
      "text/plain": [
       "[[0, 0, 0, 0, 0],\n",
       " [0, 0, 0, 0, 0],\n",
       " [0, 0, 0, 0, 0],\n",
       " [0, 0, 0, 0, 0],\n",
       " [0, 0, 0, 0, 0],\n",
       " [0, 0, 0, 0, 0]]"
      ]
     },
     "execution_count": 70,
     "metadata": {},
     "output_type": "execute_result"
    }
   ],
   "source": [
    "answer"
   ]
  },
  {
   "cell_type": "code",
   "execution_count": null,
   "metadata": {},
   "outputs": [],
   "source": []
  }
 ],
 "metadata": {
  "kernelspec": {
   "display_name": "Python 3",
   "language": "python",
   "name": "python3"
  },
  "language_info": {
   "codemirror_mode": {
    "name": "ipython",
    "version": 3
   },
   "file_extension": ".py",
   "mimetype": "text/x-python",
   "name": "python",
   "nbconvert_exporter": "python",
   "pygments_lexer": "ipython3",
   "version": "3.7.3"
  }
 },
 "nbformat": 4,
 "nbformat_minor": 2
}
