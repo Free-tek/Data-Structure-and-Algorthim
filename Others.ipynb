{
 "cells": [
  {
   "cell_type": "markdown",
   "metadata": {},
   "source": [
    "# How to find the sum of two numbers in a sorted list that give a total"
   ]
  },
  {
   "cell_type": "code",
   "execution_count": 7,
   "metadata": {},
   "outputs": [],
   "source": [
    "\n",
    "def checkSum(_list,_sum):\n",
    "    for i in range(len(_list)):\n",
    "        for j in range(len(_list)):\n",
    "            if _list[i] + _list[j] == _sum:\n",
    "                print(_list[i] , _list[j])\n",
    "                return \n",
    "            elif _list[i] + _list[j] > _sum:\n",
    "                break\n",
    "\n",
    "            \n",
    "            \n",
    "            "
   ]
  },
  {
   "cell_type": "code",
   "execution_count": 9,
   "metadata": {},
   "outputs": [
    {
     "name": "stdout",
     "output_type": "stream",
     "text": [
      "1 6\n"
     ]
    }
   ],
   "source": [
    "_list = [1,2,3,4,5,6,7]\n",
    "_sum = 7\n",
    "checkSum(_list,_sum)"
   ]
  },
  {
   "cell_type": "code",
   "execution_count": 13,
   "metadata": {},
   "outputs": [],
   "source": [
    "_list.sort()"
   ]
  },
  {
   "cell_type": "code",
   "execution_count": null,
   "metadata": {},
   "outputs": [],
   "source": [
    "_list[]"
   ]
  },
  {
   "cell_type": "code",
   "execution_count": null,
   "metadata": {},
   "outputs": [],
   "source": [
    "def checkLongestPalindrome(_String):\n",
    "    count = 0\n",
    "    listCount = []\n",
    "    for i in range(len(_String)/2):\n",
    "        if _String[i] == _String[-i] and count >= 0:\n",
    "            count+=1\n",
    "        if _String[i] != _String[-i] and count > 0:\n",
    "            #palindrom cease to exist\n",
    "            listCount.append(count)\n",
    "            count=0\n",
    "    listCount\n",
    "        \n",
    "        \n",
    "        \n",
    "        \n",
    "        \n",
    "        \n",
    "    \n",
    "    "
   ]
  }
 ],
 "metadata": {
  "kernelspec": {
   "display_name": "Python 3",
   "language": "python",
   "name": "python3"
  },
  "language_info": {
   "codemirror_mode": {
    "name": "ipython",
    "version": 3
   },
   "file_extension": ".py",
   "mimetype": "text/x-python",
   "name": "python",
   "nbconvert_exporter": "python",
   "pygments_lexer": "ipython3",
   "version": "3.7.3"
  }
 },
 "nbformat": 4,
 "nbformat_minor": 2
}
